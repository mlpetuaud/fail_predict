{
 "cells": [
  {
   "cell_type": "code",
   "execution_count": 1,
   "id": "dbb0b554",
   "metadata": {},
   "outputs": [
    {
     "name": "stderr",
     "output_type": "stream",
     "text": [
      "/Users/marie/.pyenv/versions/3.9.5/envs/simplon/lib/python3.9/site-packages/pandas/compat/__init__.py:109: UserWarning: Could not import the lzma module. Your installed Python is incomplete. Attempting to use lzma compression will result in a RuntimeError.\n",
      "  warnings.warn(msg)\n"
     ]
    }
   ],
   "source": [
    "import numpy as np\n",
    "import pandas as pd\n",
    "import matplotlib.pyplot as plt\n",
    "import seaborn as sns\n",
    "sns.set_theme(style=\"white\")\n",
    "\n",
    "## Setting max displayed rows to 500, in order to display the full output of any command\n",
    "pd.set_option('display.max_rows', 500)\n",
    "pd.set_option('display.max_columns', 500)\n",
    "pd.set_option('display.width', 1000)\n",
    "\n",
    "# Setting to avoid scientific notation\n",
    "pd.set_option('display.float_format', lambda x: '%.5f' % x)"
   ]
  },
  {
   "cell_type": "markdown",
   "id": "173b9f8b",
   "metadata": {},
   "source": [
    "# Get data"
   ]
  },
  {
   "cell_type": "markdown",
   "id": "0baa3853",
   "metadata": {},
   "source": [
    "## Entreprises saines"
   ]
  },
  {
   "cell_type": "code",
   "execution_count": 2,
   "id": "5dc60273",
   "metadata": {},
   "outputs": [],
   "source": [
    "# Get data from multiple csv files and store the concatenated dataframe to csv.\n",
    "\n",
    "df1 = pd.read_csv(\"../data/entreprises_saines/saines_1_2018.csv\", delimiter=\";\", encoding=\"utf-8\")\n",
    "df2 = pd.read_csv(\"../data/entreprises_saines/saines_2_2018.csv\", delimiter=\";\", encoding=\"utf-8\")\n",
    "df3 = pd.read_csv(\"../data/entreprises_saines/saines_3_2018.csv\", delimiter=\";\", encoding=\"utf-8\")\n",
    "df4 = pd.read_csv(\"../data/entreprises_saines/saines_4_2018.csv\", delimiter=\";\", encoding=\"utf-8\")\n",
    "df5 = pd.read_csv(\"../data/entreprises_saines/saines_5_2018.csv\", delimiter=\";\", encoding=\"utf-8\")\n",
    "df6 = pd.read_csv(\"../data/entreprises_saines/saines_6_2018.csv\", delimiter=\";\", encoding=\"utf-8\")\n",
    "df7 = pd.read_csv(\"../data/entreprises_saines/saines_7_2018.csv\", delimiter=\";\", encoding=\"utf-8\")\n",
    "df8 = pd.read_csv(\"../data/entreprises_saines/saines_8_2018.csv\", delimiter=\";\", encoding=\"utf-8\")\n",
    "df9 = pd.read_csv(\"../data/entreprises_saines/saines_9_2018.csv\", delimiter=\";\", encoding=\"utf-8\")\n",
    "df10 = pd.read_csv(\"../data/entreprises_saines/saines_10_2018.csv\", delimiter=\";\", encoding=\"utf-8\")\n",
    "df11 = pd.read_csv(\"../data/entreprises_saines/saines_11_2018.csv\", delimiter=\";\", encoding=\"utf-8\")\n",
    "df12 = pd.read_csv(\"../data/entreprises_saines/saines_12_2018.csv\", delimiter=\";\", encoding=\"utf-8\")\n",
    "df13 = pd.read_csv(\"../data/entreprises_saines/saines_13_2018.csv\", delimiter=\";\", encoding=\"utf-8\")\n",
    "\n",
    "df_saines = pd.concat([df1, df2, df3, df4, df5, df6, df7, df8, df9, df10, df11, df12, df13], ignore_index=True)\n",
    "df_saines.to_csv(\"../data/saines_2018.csv\", index=False)"
   ]
  },
  {
   "cell_type": "markdown",
   "id": "7e2cde69",
   "metadata": {},
   "source": [
    "**Attention : dans la df1 Catégorie juridique (Niveau I) alors que pour tous les autres df on est de Niveau II**"
   ]
  },
  {
   "cell_type": "code",
   "execution_count": 4,
   "id": "4855e589",
   "metadata": {},
   "outputs": [],
   "source": [
    "saines = pd.read_csv(\"../data/saines_2018.csv\")"
   ]
  },
  {
   "cell_type": "markdown",
   "id": "2e1074e9",
   "metadata": {},
   "source": [
    "## Entreprises en faillite"
   ]
  },
  {
   "cell_type": "code",
   "execution_count": 5,
   "id": "d0c6fb08",
   "metadata": {},
   "outputs": [],
   "source": [
    "defaillantes = pd.read_csv(\"../data/data_used/defaillantes_2018.csv\", delimiter=\";\", encoding=\"utf-8\")"
   ]
  },
  {
   "cell_type": "markdown",
   "id": "7143ba89",
   "metadata": {},
   "source": [
    "## DF global (saines=0 et défaillantes=1)"
   ]
  },
  {
   "cell_type": "code",
   "execution_count": 6,
   "id": "d5282e76",
   "metadata": {},
   "outputs": [],
   "source": [
    "saines[\"default\"] = np.zeros(saines.shape[0])"
   ]
  },
  {
   "cell_type": "code",
   "execution_count": 7,
   "id": "80fdf652",
   "metadata": {},
   "outputs": [],
   "source": [
    "defaillantes[\"default\"] = np.ones(defaillantes.shape[0])"
   ]
  },
  {
   "cell_type": "code",
   "execution_count": 8,
   "id": "d4686d3f",
   "metadata": {},
   "outputs": [],
   "source": [
    "data = pd.concat([saines, defaillantes], ignore_index=True)"
   ]
  },
  {
   "cell_type": "code",
   "execution_count": 9,
   "id": "1e11427c",
   "metadata": {},
   "outputs": [
    {
     "data": {
      "text/plain": [
       "(8784, 103)"
      ]
     },
     "execution_count": 9,
     "metadata": {},
     "output_type": "execute_result"
    }
   ],
   "source": [
    "data.shape"
   ]
  },
  {
   "cell_type": "code",
   "execution_count": 10,
   "id": "ade1e921",
   "metadata": {},
   "outputs": [],
   "source": [
    "data.to_csv(\"../data/data_svg/total_2018.csv\", index=False)\n",
    "data.to_csv(\"../data/data_used/total_2018.csv\", index=False)"
   ]
  },
  {
   "cell_type": "code",
   "execution_count": null,
   "id": "938fdef7",
   "metadata": {},
   "outputs": [],
   "source": []
  }
 ],
 "metadata": {
  "kernelspec": {
   "display_name": "Python 3",
   "language": "python",
   "name": "python3"
  },
  "language_info": {
   "codemirror_mode": {
    "name": "ipython",
    "version": 3
   },
   "file_extension": ".py",
   "mimetype": "text/x-python",
   "name": "python",
   "nbconvert_exporter": "python",
   "pygments_lexer": "ipython3",
   "version": "3.9.5"
  },
  "toc": {
   "base_numbering": 1,
   "nav_menu": {},
   "number_sections": true,
   "sideBar": true,
   "skip_h1_title": false,
   "title_cell": "Table of Contents",
   "title_sidebar": "Contents",
   "toc_cell": false,
   "toc_position": {},
   "toc_section_display": true,
   "toc_window_display": false
  }
 },
 "nbformat": 4,
 "nbformat_minor": 5
}
