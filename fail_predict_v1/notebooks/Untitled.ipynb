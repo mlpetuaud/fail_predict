{
 "cells": [
  {
   "cell_type": "code",
   "execution_count": 1,
   "id": "dbb0b554",
   "metadata": {},
   "outputs": [
    {
     "name": "stderr",
     "output_type": "stream",
     "text": [
      "/Users/marie/.pyenv/versions/3.9.5/envs/simplon/lib/python3.9/site-packages/pandas/compat/__init__.py:109: UserWarning: Could not import the lzma module. Your installed Python is incomplete. Attempting to use lzma compression will result in a RuntimeError.\n",
      "  warnings.warn(msg)\n"
     ]
    }
   ],
   "source": [
    "import numpy as np\n",
    "import pandas as pd\n",
    "import matplotlib.pyplot as plt\n",
    "import seaborn as sns\n",
    "sns.set_theme(style=\"white\")\n",
    "\n",
    "## Setting max displayed rows to 500, in order to display the full output of any command\n",
    "pd.set_option('display.max_rows', 500)\n",
    "pd.set_option('display.max_columns', 500)\n",
    "pd.set_option('display.width', 1000)"
   ]
  },
  {
   "cell_type": "markdown",
   "id": "bc3076e8",
   "metadata": {},
   "source": [
    "# Get data"
   ]
  },
  {
   "cell_type": "markdown",
   "id": "57a4c4ef",
   "metadata": {},
   "source": [
    "## Entreprises saines"
   ]
  },
  {
   "cell_type": "code",
   "execution_count": 12,
   "id": "eebe9f48",
   "metadata": {},
   "outputs": [],
   "source": [
    "# Get data from multiple csv files and store the concatenated dataframe to csv.\n",
    "\n",
    "df1 = pd.read_csv(\"./Data/Entreprises_saines/saines_1_v2.csv\", delimiter=\";\", encoding=\"utf-8\")\n",
    "df2 = pd.read_csv(\"./Data/Entreprises_saines/saines_2.csv\", delimiter=\";\", encoding=\"utf-8\")\n",
    "df3 = pd.read_csv(\"./Data/Entreprises_saines/saines_3.csv\", delimiter=\";\", encoding=\"utf-8\")\n",
    "df4 = pd.read_csv(\"./Data/Entreprises_saines/saines_4.csv\", delimiter=\";\", encoding=\"utf-8\")\n",
    "df5 = pd.read_csv(\"./Data/Entreprises_saines/saines_5.csv\", delimiter=\";\", encoding=\"utf-8\")\n",
    "df6 = pd.read_csv(\"./Data/Entreprises_saines/saines_6.csv\", delimiter=\";\", encoding=\"utf-8\")\n",
    "df7 = pd.read_csv(\"./Data/Entreprises_saines/saines_2.csv\", delimiter=\";\", encoding=\"utf-8\")\n",
    "\n",
    "df_saines = pd.concat([df1, df2, df3, df4, df5, df6, df7], ignore_index=True)\n",
    "df_saines.to_csv(\"df_saines.csv\", index=False)"
   ]
  },
  {
   "cell_type": "markdown",
   "id": "2985669d",
   "metadata": {},
   "source": [
    "**Attention : dans la df1 Catégorie juridique (Niveau I) alors que pour tous les autres df on est de Niveau II**"
   ]
  },
  {
   "cell_type": "code",
   "execution_count": 43,
   "id": "1dfc40cf",
   "metadata": {},
   "outputs": [],
   "source": [
    "saines = pd.read_csv(\"df_saines.csv\")"
   ]
  },
  {
   "cell_type": "markdown",
   "id": "b370fde8",
   "metadata": {},
   "source": [
    "## Entreprises en faillite"
   ]
  },
  {
   "cell_type": "code",
   "execution_count": null,
   "id": "b4a1ee65",
   "metadata": {},
   "outputs": [],
   "source": [
    "defaillantes = pd.read_csv(\"\")"
   ]
  }
 ],
 "metadata": {
  "kernelspec": {
   "display_name": "Python 3",
   "language": "python",
   "name": "python3"
  },
  "language_info": {
   "codemirror_mode": {
    "name": "ipython",
    "version": 3
   },
   "file_extension": ".py",
   "mimetype": "text/x-python",
   "name": "python",
   "nbconvert_exporter": "python",
   "pygments_lexer": "ipython3",
   "version": "3.9.5"
  },
  "toc": {
   "base_numbering": 1,
   "nav_menu": {},
   "number_sections": true,
   "sideBar": true,
   "skip_h1_title": false,
   "title_cell": "Table of Contents",
   "title_sidebar": "Contents",
   "toc_cell": false,
   "toc_position": {},
   "toc_section_display": true,
   "toc_window_display": false
  }
 },
 "nbformat": 4,
 "nbformat_minor": 5
}
