{
 "cells": [
  {
   "cell_type": "code",
   "execution_count": null,
   "id": "9d09fe5a",
   "metadata": {},
   "outputs": [],
   "source": [
    "%matplotlib notebook\n",
    "\n",
    "import numpy as np\n",
    "import pandas as pd\n",
    "import matplotlib.pyplot as plt\n",
    "import seaborn as sns\n",
    "sns.set_theme(style=\"white\")\n",
    "\n",
    "## Setting max displayed rows to 500, in order to display the full output of any command\n",
    "pd.set_option('display.max_rows', 500)\n",
    "pd.set_option('display.max_columns', 500)\n",
    "pd.set_option('display.width', 1000)\n",
    "\n",
    "# Setting to avoid scientific notation\n",
    "pd.set_option('display.float_format', lambda x: '%.5f' % x)\n",
    "\n",
    "# pour que les valeurs infinies soient considérées aussi comme des NaN :\n",
    "pd.options.mode.use_inf_as_na = True\n",
    "\n",
    "# sklearn\n",
    "from sklearn.metrics import *"
   ]
  },
  {
   "cell_type": "markdown",
   "id": "dc6ed3a9",
   "metadata": {},
   "source": [
    "# Rajout des données\n",
    "## Calul des ratios"
   ]
  },
  {
   "cell_type": "markdown",
   "id": "eadf1388",
   "metadata": {},
   "source": [
    "### A faire :\n",
    "- renommer les colonnes avec les codifications cerfa (sous forme de dictionnaire). Réfléchir à la façon dont les infos seront ensuite récupérées depuis l'UI (formulaire ? scan des données ? Prévoir de rajouter à chaque fois les infos dans la db ? => visiblement non, la DB utilisée seulement pour entrainer le modèle)\n",
    "- distinguer les types de variables (bilan, cdr, autres infos...). => OK\n",
    "- créer les variables \"ratios\" (les nommer R1, R2...)\n",
    "- les mettre en DB (à quel moment ?)\n",
    "- distinguer les variables qualitatives et quantitatives\n",
    "\n",
    "\n",
    "- prendre tous les ratios + certains champs en valeur. Pour déterminer les champs en valeur à prendre, calculer les corrélations + faire graphes + Feature Importance.\n",
    "\n",
    "- penser à travailler sur les résidus (rajouter des modèles les uns sur les autres)\n",
    "\n",
    "\n",
    "\n",
    "- Prévoir dans la DB une table pour les ratios, une autre pour le bilan, une pour le CDR... Réfléchir au meilleur schéma. Prévoir une table avec les types d'entreprises. Prévoir une table indiquant les types de données : CDR, bilan... ? \n"
   ]
  },
  {
   "cell_type": "code",
   "execution_count": null,
   "id": "e196a293",
   "metadata": {},
   "outputs": [],
   "source": [
    "df = pd.read_csv(\"../data/data_used/total.csv\")"
   ]
  },
  {
   "cell_type": "code",
   "execution_count": null,
   "id": "56061ae4",
   "metadata": {},
   "outputs": [],
   "source": [
    "def calcul_ratios(df):\n",
    "    df[\"Credit client\"] = (df['Clients et comptes rattachés (3) (net) (BXNET) 2016 (€)']*365)/(df[\"Chiffre d'affaires net (Total) (FL) 2016 (€)\"]*1.2)\n",
    "\n",
    "    df[\"Credit Fournisseurs\"] = df['Dettes fournisseurs et comptes rattachés (DX) 2016 (€)']*365/(\n",
    "        (df['Achats de marchandises (y compris droits de douane) (FS) 2016 (€)'] \n",
    "        + df['Achats de matières premières et autres approvisionnements (y compris droits de douane) (FU) 2016 (€)'] \n",
    "        + df['Autres achats et charges externes (3) (6 bis) (FW) 2016 (€)']\n",
    "        )*1.2)\n",
    "\n",
    "    df[\"Rotation_stocks\"] = ( df['Matières premières, approvisionnements (net) (BLNET) 2016 (€)'] + \n",
    "             + df['En cours de production de biens (net) (BNNET) 2016 (€)'] \n",
    "             + df['En cours de production de services (net) (BPNET) 2016 (€)']\n",
    "             + df['Produits intermédiaires et finis (net) (BRNET) 2016 (€)']\n",
    "             + df['Marchandises (net) (BTNET) 2016 (€)'])*365 / (\n",
    "                df[\"Chiffre d'affaires net (Total) (FL) 2016 (€)\"]  \n",
    "                - df[\"1 - RESULTAT D'EXPLOITATION (I - II) (GG) 2016 (€)\"])\n",
    "\n",
    "    df[\"BFR\"] = (\n",
    "        df['TOTAL (III) (net) (CJNET) 2016 (€)']\n",
    "        + df['Valeurs mobilières de placement (net) (CDNET) 2016 (€)']\n",
    "        + df['Disponibilités (net) (CFNET) 2016 (€)']\n",
    "        - df['Avances et acomptes reçus sur commandes en cours (DW) 2016 (€)']\n",
    "        - df['Dettes fournisseurs et comptes rattachés (DX) 2016 (€)']\n",
    "        - df['Dettes fiscales et sociales (DY) 2016 (€)']\n",
    "        - df['Dettes sur immobilisations et comptes rattachés (DZ) 2016 (€)']\n",
    "        - df['Autres dettes (EA) 2016 (€)']\n",
    "        - df[\"Produits constatés d'avance (EB) 2016 (€)\"])\n",
    "\n",
    "\n",
    "    df[\"BFRE\"] = (\n",
    "                df['Matières premières, approvisionnements (net) (BLNET) 2016 (€)']\n",
    "                 + df['En cours de production de services (net) (BPNET) 2016 (€)']\n",
    "                 + df['En cours de production de biens (net) (BNNET) 2016 (€)']\n",
    "                 + df['Produits intermédiaires et finis (net) (BRNET) 2016 (€)']\n",
    "                 + df['Marchandises (net) (BTNET) 2016 (€)']\n",
    "                 + df['Avances et acomptes versés sur commandes (net) (BVNET) 2016 (€)']\n",
    "                 + df['Clients et comptes rattachés (3) (net) (BXNET) 2016 (€)']\n",
    "                - df['Avances et acomptes reçus sur commandes en cours (DW) 2016 (€)']\n",
    "                - df['Dettes fournisseurs et comptes rattachés (DX) 2016 (€)']\n",
    "                - df['Dettes fiscales et sociales (DY) 2016 (€)']\n",
    "                - df['Autres dettes (EA) 2016 (€)']\n",
    "                 )\n",
    "\n",
    "    df[\"Endettement total\"] = (df['Autres emprunts obligataires (DT) 2016 (€)']\n",
    "                 + df['Emprunts obligataires convertibles (DS) 2016 (€)']\n",
    "                 + df['Emprunts et dettes auprès des établissements de crédit (5) (DU) 2016 (€)']\n",
    "                 + df['Emprunts et dettes financières divers (DV) 2016 (€)']\n",
    "                - df['(5)\\xa0Dont concours bancaires courants, et soldes créditeurs de banques et CCP (EH) 2016 (€)'])\n",
    "\n",
    "    df[\"CAF\"] = (df['3 - RESULTAT COURANT AVANT IMPOTS (I - II + III - IV + V - VI) (GW) 2016 (€)']\n",
    "                - df['Reprises sur amortissements et provisions, transferts de charges (9) (FP) 2016 (€)']\n",
    "                + df[\"Dotations d'exploitation sur immobilisations (dotations aux amortissements) (GA) 2016 (€)\"]\n",
    "                + df[\"Dotations d'exploitation sur immobilisations (dotations aux provisions) (GB) 2016 (€)\"]\n",
    "                + df[\"Dotations d'exploitation sur actif circulant (dotations aux provisions) (GC) 2016 (€)\"]\n",
    "                + df[\"Dotations d'exploitation pour risques et charges (dotations aux provisions) (GD) 2016 (€)\"]\n",
    "                - df['Reprises sur provisions & transferts de charges (GM) 2016 (€)']\n",
    "                + df['Dotations financières aux amortissements et provisions (GQ) 2016 (€)']\n",
    "                - df[\"Participation des salariés aux résultats de l'entreprise (HJ) 2016 (€)\"]\n",
    "                - df['Impôts sur les bénéfices (HK) 2016 (€)'])\n",
    "\n",
    "    df[\"Capacite de remboursement\"] = df[\"Endettement total\"] / df[\"CAF\"]\n",
    "\n",
    "\n",
    "    df[\"Ressources durables\"] = (df['TOTAL (I) (DL) 2016 (€)']\n",
    "                 + df['TOTAL(II) (DO) 2016 (€)']\n",
    "                 + df['TOTAL (III) (DR) 2016 (€)']\n",
    "                 + df['Autres emprunts obligataires (DT) 2016 (€)']\n",
    "                 + df['Emprunts obligataires convertibles (DS) 2016 (€)']\n",
    "                 + df['Emprunts et dettes auprès des établissements de crédit (5) (DU) 2016 (€)']\n",
    "                 + df['Emprunts et dettes financières divers (DV) 2016 (€)']\n",
    "                 - df['(5)\\xa0Dont concours bancaires courants, et soldes créditeurs de banques et CCP (EH) 2016 (€)']\n",
    "                 - df['Capital souscrit non appelé (I) (AA) 2016 (€)'])\n",
    "\n",
    "\n",
    "    df[\"FRNG\"] = (df[\"Ressources durables\"]   \n",
    "                 + df['Ecarts de conversion passif (V) (ED) 2016 (€)']\n",
    "                 - df['Primes de remboursement des obligations (CM) 2016 (€)']\n",
    "                 - df['Ecarts de conversion actif (CN) 2016 (€)']\n",
    "                 + df['TOTAL (II) (net) (BJNET) 2016 (€)'])\n",
    "\n",
    "    df[\"Taux endettement\"] = df[\"Endettement total\"] / df[\"Ressources durables\"]\n",
    "\n",
    "    df[\"Rentabilite financiere\"] = (df[\"RESULTAT DE L'EXERCICE (bénéfice ou perte) (DI) 2016 (€)\"] \n",
    "                                    / (df['TOTAL (I) (DL) 2016 (€)'] \n",
    "                                       - df['Capital souscrit non appelé (I) (AA) 2016 (€)']))\n",
    "\n",
    "    df[\"EBE\"] = (df[\"Chiffre d'affaires net (Total) (FL) 2016 (€)\"]\n",
    "                + df[\"Subventions d'exploitation (FO) 2016 (€)\"]\n",
    "                + df['Production stockée (FM) 2016 (€)']\n",
    "                + df['Production immobilisée (FN) 2016 (€)']\n",
    "                - df['Achats de marchandises (y compris droits de douane) (FS) 2016 (€)']\n",
    "                - df['Variation de stock (marchandises) (FT) 2016 (€)']\n",
    "                - df['Achats de matières premières et autres approvisionnements (y compris droits de douane) (FU) 2016 (€)']\n",
    "                - df['Variation de stock (matières premières et approvisionnements) (FV) 2016 (€)']\n",
    "                - df['Autres achats et charges externes (3) (6 bis) (FW) 2016 (€)']\n",
    "                - df['Impôts, taxes et versements assimilés (FX) 2016 (€)']\n",
    "                - df['Salaires et traitements (FY) 2016 (€)']\n",
    "                - df['Charges sociales (10) (FZ) 2016 (€)']\n",
    "                + df['(3)\\xa0Dont Crédit-bail mobilier (HP) 2016 (€)']\n",
    "                + df['(3)\\xa0Dont Crédit-bail immobilier (HQ) 2016 (€)']\n",
    "                )\n",
    "\n",
    "    df[\"VA\"] = (df[\"EBE\"] \n",
    "                - df[\"Subventions d'exploitation (FO) 2016 (€)\"]\n",
    "                + df['Impôts, taxes et versements assimilés (FX) 2016 (€)']\n",
    "                + df['Salaires et traitements (FY) 2016 (€)']\n",
    "                + df['Charges sociales (10) (FZ) 2016 (€)'])\n",
    "\n",
    "    df[\"Liquidite generale\"] = ((df['TOTAL (III) (net) (CJNET) 2016 (€)']\n",
    "                               - df[\"Charges constatées d'avance (3) (net) (CHNET) 2016 (€)\"])\n",
    "                               / (df['Avances et acomptes reçus sur commandes en cours (DW) 2016 (€)']\n",
    "                                 + df['Dettes fournisseurs et comptes rattachés (DX) 2016 (€)']\n",
    "                                 + df['Dettes fiscales et sociales (DY) 2016 (€)']\n",
    "                                 + df['Dettes sur immobilisations et comptes rattachés (DZ) 2016 (€)']\n",
    "                                 + df['Autres dettes (EA) 2016 (€)']\n",
    "                                 + df['(5)\\xa0Dont concours bancaires courants, et soldes créditeurs de banques et CCP (EH) 2016 (€)']))\n",
    "\n",
    "\n",
    "    df[\"Liquidite reduite\"] = (\n",
    "        (\n",
    "            (df['TOTAL (III) (net) (CJNET) 2016 (€)']\n",
    "                               - df[\"Charges constatées d'avance (3) (net) (CHNET) 2016 (€)\"]\n",
    "            )\n",
    "                               - (\n",
    "                                   df['Matières premières, approvisionnements (net) (BLNET) 2016 (€)']\n",
    "                                 + df['En cours de production de services (net) (BPNET) 2016 (€)']\n",
    "                                 + df['En cours de production de biens (net) (BNNET) 2016 (€)']\n",
    "                                 + df['Produits intermédiaires et finis (net) (BRNET) 2016 (€)']\n",
    "                                 + df['Marchandises (net) (BTNET) 2016 (€)']\n",
    "                                 )\n",
    "        ) \n",
    "                                / (\n",
    "                                    df['Avances et acomptes reçus sur commandes en cours (DW) 2016 (€)']\n",
    "                                 + df['Dettes fournisseurs et comptes rattachés (DX) 2016 (€)']\n",
    "                                 + df['Dettes fiscales et sociales (DY) 2016 (€)']\n",
    "                                 + df['Dettes sur immobilisations et comptes rattachés (DZ) 2016 (€)']\n",
    "                                 + df['Autres dettes (EA) 2016 (€)']\n",
    "                                 + df['(5)\\xa0Dont concours bancaires courants, et soldes créditeurs de banques et CCP (EH) 2016 (€)']\n",
    "                                    )\n",
    "                                )\n",
    "\n",
    "    df[\"Taux ressources propres\"] = ((df['TOTAL (I) (DL) 2016 (€)'] \n",
    "                                     - df['Capital souscrit non appelé (I) (AA) 2016 (€)'])\n",
    "                                    / df['TOTAL GENERAL (I à V) (EE) 2016 (€)'])\n",
    "\n",
    "    #df[\"CA par employe\"] = gérer les 0\n",
    "\n",
    "    df[\"Rentabilite des capitaux propres\"] = (df[\"RESULTAT DE L'EXERCICE (bénéfice ou perte) (DI) 2016 (€)\"]\n",
    "                                             / (df['TOTAL (I) (DL) 2016 (€)']\n",
    "                                                + df['TOTAL(II) (DO) 2016 (€)']\n",
    "                                                - df['Capital souscrit non appelé (I) (AA) 2016 (€)']))\n",
    "\n",
    "    df[\"Autonomie financiere\"] = ((df['TOTAL (I) (DL) 2016 (€)']\n",
    "                                                + df['TOTAL(II) (DO) 2016 (€)']\n",
    "                                                - df['Capital souscrit non appelé (I) (AA) 2016 (€)'])\n",
    "                                  / df['TOTAL GENERAL (I à V) (EE) 2016 (€)'])\n",
    "\n",
    "    df[\"Poids interets\"] = (df['Intérêts et charges assimilées (GR) 2016 (€)'] \n",
    "                            / df[\"1 - RESULTAT D'EXPLOITATION (I - II) (GG) 2016 (€)\"])\n",
    "\n",
    "    df[\"Taux EBE\"] = (df[\"EBE\"]\n",
    "                      / df[\"Chiffre d'affaires net (Total) (FL) 2016 (€)\"])\n",
    "\n",
    "    df[\"Taux VA\"] = (df[\"VA\"]\n",
    "                      / df[\"Chiffre d'affaires net (Total) (FL) 2016 (€)\"])\n",
    "\n",
    "    df[\"Taux Rentabilite\"] = (df[\"RESULTAT DE L'EXERCICE (bénéfice ou perte) (DI) 2016 (€)\"]\n",
    "                             / df[\"Chiffre d'affaires net (Total) (FL) 2016 (€)\"])\n",
    "\n",
    "    df[\"Poids dettes fiscales\"] = ((df['Sécurité sociale et autres organismes sociaux - Montant brut (8D) 2016 (€)']\n",
    "                                   + df['Impôts sur les bénéfices - Montant brut (8E) 2016 (€)']\n",
    "                                   + df['T.V.A. - Montant brut (VW) 2016 (€)'])\n",
    "                                   / df[\"Chiffre d'affaires net (Total) (FL) 2016 (€)\"])\n",
    "\n",
    "\n",
    "    df[\"Taux augmentation endettement CT\"] = (df['Emprunts souscrits en cours d’exercice - à 1 an au plus (VJ2) 2016 (€)']\n",
    "                                         / df['TOTAL GENERAL (I à V) (EE) 2016 (€)'])\n",
    "\n",
    "    df[\"Tresorerie\"] = df[\"FRNG\"] - df[\"BFR\"]\n",
    "    \n",
    "    return df"
   ]
  },
  {
   "cell_type": "code",
   "execution_count": null,
   "id": "c3c97324",
   "metadata": {},
   "outputs": [],
   "source": [
    "df = calcul_ratios(df)"
   ]
  },
  {
   "cell_type": "markdown",
   "id": "34c4474d",
   "metadata": {},
   "source": [
    "## Merge avec données NAF"
   ]
  },
  {
   "cell_type": "code",
   "execution_count": null,
   "id": "b1ae29ba",
   "metadata": {},
   "outputs": [],
   "source": [
    "def merge_naf(df, naf_path):\n",
    "    df_naf = pd.read_excel(naf_path, header=[1])\n",
    "    df_naf = df_naf.drop([\"Unnamed: 10\", \"Unnamed: 11\", \"Unnamed: 12\", \"Unnamed: 13\", \"Unnamed: 14\", \"Unnamed: 15\",\n",
    "            \"Unnamed: 16\", \"Unnamed: 17\", \"Unnamed: 18\", \"Unnamed: 19\", \"Unnamed: 20\", \"Unnamed: 21\", \"Unnamed: 22\"], axis=1)\n",
    "    df_naf = df_naf.rename(columns={'Unnamed: 1':'Descriptif A 732'})\n",
    "    # Step 1 - suppression des points dans la colonne A 732\n",
    "    # pour avoir le même format que dans les données d'entreprises\n",
    "    for row in range(df_naf.shape[0]):\n",
    "        df_naf.loc[row,'A 732'] = df_naf.loc[row,'A 732'].replace('.', '')\n",
    "    # Step 2 - Join avec le dataset d'entreprises \n",
    "    # (pour la mise en DB, il faudra créér deux tables et faire les joins dans la requête SQL)\n",
    "    df_merged = pd.merge(df, df_naf, how = 'left', left_on = df['Code APE'], right_on = df_naf['A 732'])\n",
    "    df_merged = df_merged.drop(['key_0'], axis=1)\n",
    "    assert df_merged.shape[0]==df.shape[0]\n",
    "    assert df_merged.shape[1]==df.shape[1]+df_naf.shape[1]\n",
    "    return df_merged, df_naf"
   ]
  },
  {
   "cell_type": "code",
   "execution_count": null,
   "id": "9983e278",
   "metadata": {},
   "outputs": [],
   "source": [
    "df, df_naf = merge_naf(df, naf_path=\"../data/data_used/table_nAF2-NA.xls\")"
   ]
  },
  {
   "cell_type": "markdown",
   "id": "a43421f1",
   "metadata": {},
   "source": [
    "## Date de création => rajout d'une colonne sur l'âge"
   ]
  },
  {
   "cell_type": "code",
   "execution_count": null,
   "id": "d05269b6",
   "metadata": {},
   "outputs": [],
   "source": [
    "import datetime\n",
    "def ajout_col_age(df):\n",
    "    df[\"Date de création\"] = pd.to_datetime(df[\"Date de création\"])\n",
    "    df[\"Age entreprise\"] = ((datetime.datetime(2019,12,31) - df[\"Date de création\"])/np.timedelta64(1, 'M'))\n",
    "    df[\"Age entreprise\"] = df[\"Age entreprise\"].astype(int)\n",
    "    return df"
   ]
  },
  {
   "cell_type": "code",
   "execution_count": null,
   "id": "0fe409cf",
   "metadata": {},
   "outputs": [],
   "source": [
    "df = ajout_col_age(df)"
   ]
  },
  {
   "cell_type": "markdown",
   "id": "fb14dded",
   "metadata": {},
   "source": []
  },
  {
   "cell_type": "markdown",
   "id": "c6ace886",
   "metadata": {},
   "source": [
    "## Suppression des colonnes absolument inutiles\n",
    "- Supprimer toutes les colonnes qui sont intégrées dans les ratios et qui ne servent qu'à cela :\n",
    "- Supprimer toutes les colonnes qui \n"
   ]
  },
  {
   "cell_type": "markdown",
   "id": "32266fd0",
   "metadata": {},
   "source": [
    "### Définition des catégories de colonnes"
   ]
  },
  {
   "cell_type": "code",
   "execution_count": null,
   "id": "d9ac5349",
   "metadata": {},
   "outputs": [],
   "source": [
    "target_col = ['default']"
   ]
  },
  {
   "cell_type": "code",
   "execution_count": null,
   "id": "67df941f",
   "metadata": {},
   "outputs": [],
   "source": [
    "#naf_cols = df_naf.columns.to_list()\n",
    "naf_cols = ['A 732',\n",
    " 'Descriptif A 732',\n",
    " 'A 615',\n",
    " 'A 272',\n",
    " 'A 129',\n",
    " 'A 88',\n",
    " 'A 64',\n",
    " 'A 38',\n",
    " 'A 21',\n",
    " 'A 10']\n",
    "naf_cols_to_drop = ['A 732',\n",
    " 'Descriptif A 732',\n",
    " 'A 615',\n",
    " 'A 272',\n",
    " 'A 129',\n",
    " 'A 88',\n",
    " 'A 64',\n",
    " 'A 38']\n",
    "naf_cols_to_keep = [col for col in naf_cols if col not in naf_cols_to_drop]\n",
    "naf_cols_to_keep"
   ]
  },
  {
   "cell_type": "code",
   "execution_count": null,
   "id": "296f14fb",
   "metadata": {},
   "outputs": [],
   "source": [
    "general_cols = ['SIREN', \n",
    "           'Dénomination', \n",
    "           'SIRET', \n",
    "           'Code APE', \n",
    "           'Procédures collectives (type)', \n",
    "           'Procédures collectives (date)', \n",
    "           'Code postal', \n",
    "           'Date de création', \n",
    "            'Age entreprise', \n",
    "           'Tranche effectifs', \n",
    "           'Catégorie juridique (Niveau I)', \n",
    "           'Ville', \n",
    "           \"Nombre de mois de l'exercice comptable 2016\", \n",
    "           'Notation NOTA-PME 2016', \n",
    "           'Catégorie juridique (Niveau II)',\n",
    "            'Effectif moyen du personnel (YP) 2016']\n",
    "\n",
    "general_cols_to_drop = ['SIREN', \n",
    "           'Dénomination', \n",
    "           'SIRET', \n",
    "           'Code APE', # présent dans les colonnes NAF (A 732)            \n",
    "           'Procédures collectives (type)', \n",
    "           'Procédures collectives (date)', \n",
    "           'Code postal', # à reprendre après pour analyse géographique\n",
    "           'Date de création', \n",
    "           'Ville',\n",
    "                        \n",
    "           'Notation NOTA-PME 2016', \n",
    "            'Catégorie juridique (Niveau I)',\n",
    "           'Catégorie juridique (Niveau II)',\n",
    "            'Effectif moyen du personnel (YP) 2016']\n",
    "\n",
    "general_cols_to_keep = [col for col in general_cols if col not in general_cols_to_drop]\n",
    "general_cols_to_keep"
   ]
  },
  {
   "cell_type": "code",
   "execution_count": null,
   "id": "e165cbe8",
   "metadata": {},
   "outputs": [],
   "source": [
    "important_cols = ['TOTAL (I) (DL) 2016 (€)',\n",
    "                    \"Chiffre d'affaires net (Total) (FL) 2016 (€)\",\n",
    "                    '3 - RESULTAT COURANT AVANT IMPOTS (I - II + III - IV + V - VI) (GW) 2016 (€)',\n",
    "                    'TOTAL GENERAL(I à VI) (net) (CONET) 2016 (€)']"
   ]
  },
  {
   "cell_type": "code",
   "execution_count": null,
   "id": "1f4885a3",
   "metadata": {},
   "outputs": [],
   "source": [
    "bilan_cols = ['Capital souscrit non appelé (I) (AA) 2016 (€)', \n",
    "         'TOTAL (II) (net) (BJNET) 2016 (€)', \n",
    "         'Matières premières, approvisionnements (net) (BLNET) 2016 (€)', \n",
    "         'En cours de production de biens (net) (BNNET) 2016 (€)', \n",
    "         'En cours de production de services (net) (BPNET) 2016 (€)', \n",
    "         'Produits intermédiaires et finis (net) (BRNET) 2016 (€)', \n",
    "         'Marchandises (net) (BTNET) 2016 (€)', \n",
    "         'Avances et acomptes versés sur commandes (net) (BVNET) 2016 (€)', \n",
    "         'Clients et comptes rattachés (3) (net) (BXNET) 2016 (€)', \n",
    "         'Autres créances (3) (net) (BZNET) 2016 (€)', \n",
    "         'Capital souscrit et appelé, non versé (net) (CBNET) 2016 (€)', \n",
    "         'Valeurs mobilières de placement (net) (CDNET) 2016 (€)', \n",
    "         'Disponibilités (net) (CFNET) 2016 (€)', \n",
    "         \"Charges constatées d'avance (3) (net) (CHNET) 2016 (€)\", \n",
    "         'TOTAL (III) (net) (CJNET) 2016 (€)', \n",
    "         'Primes de remboursement des obligations (CM) 2016 (€)', \n",
    "         'Ecarts de conversion actif (CN) 2016 (€)', \n",
    "         'TOTAL GENERAL(I à VI) (net) (CONET) 2016 (€)', \n",
    "         'Capital social ou individuel (1) (DA) 2016 (€)', \n",
    "         'Report à nouveau (DH) 2016 (€)', \n",
    "         \"RESULTAT DE L'EXERCICE (bénéfice ou perte) (DI) 2016 (€)\", \n",
    "         'TOTAL (I) (DL) 2016 (€)', \n",
    "         'TOTAL(II) (DO) 2016 (€)', \n",
    "         'TOTAL (III) (DR) 2016 (€)', \n",
    "         'Autres emprunts obligataires (DT) 2016 (€)', \n",
    "         'Emprunts obligataires convertibles (DS) 2016 (€)', \n",
    "         'Emprunts et dettes auprès des établissements de crédit (5) (DU) 2016 (€)', \n",
    "         'Emprunts et dettes financières divers (DV) 2016 (€)', \n",
    "         'Avances et acomptes reçus sur commandes en cours (DW) 2016 (€)', \n",
    "         'Dettes fournisseurs et comptes rattachés (DX) 2016 (€)', \n",
    "         'Dettes fiscales et sociales (DY) 2016 (€)', \n",
    "         'Dettes sur immobilisations et comptes rattachés (DZ) 2016 (€)', \n",
    "         'Autres dettes (EA) 2016 (€)', \n",
    "         \"dont comptes courants d'associés de l'exercice N (EA2) 2016 (€)\", \n",
    "         \"Produits constatés d'avance (EB) 2016 (€)\", \n",
    "         'TOTAL (IV) (EC) 2016 (€)', \n",
    "         'TOTAL GENERAL (I à V) (EE) 2016 (€)', \n",
    "         '(5)\\xa0Dont concours bancaires courants, et soldes créditeurs de banques et CCP (EH) 2016 (€)',\n",
    "         'Ecarts de conversion passif (V) (ED) 2016 (€)']"
   ]
  },
  {
   "cell_type": "code",
   "execution_count": null,
   "id": "1046fc70",
   "metadata": {},
   "outputs": [],
   "source": [
    "cdr_cols = [\"Chiffre d'affaires net (France) (FJ) 2016 (€)\", \n",
    "       \"Chiffre d'affaires net (Exportations et livraisons intracommunautaires) (FK) 2016 (€)\", \n",
    "       \"Chiffre d'affaires net (Total) (FL) 2016 (€)\", \n",
    "       \"Subventions d'exploitation (FO) 2016 (€)\", \n",
    "       'Reprises sur amortissements et provisions, transferts de charges (9) (FP) 2016 (€)', \n",
    "       \"Total des produits d'exploitation (2) (I) (FR) 2016 (€)\", \n",
    "       'Achats de marchandises (y compris droits de douane) (FS) 2016 (€)', \n",
    "       'Variation de stock (marchandises) (FT) 2016 (€)', \n",
    "       'Achats de matières premières et autres approvisionnements (y compris droits de douane) (FU) 2016 (€)', \n",
    "       'Variation de stock (matières premières et approvisionnements) (FV) 2016 (€)', \n",
    "       'Autres achats et charges externes (3) (6 bis) (FW) 2016 (€)', \n",
    "       'Impôts, taxes et versements assimilés (FX) 2016 (€)', \n",
    "       'Salaires et traitements (FY) 2016 (€)', \n",
    "       'Charges sociales (10) (FZ) 2016 (€)', \n",
    "       \"Dotations d'exploitation sur immobilisations (dotations aux amortissements) (GA) 2016 (€)\", \n",
    "       \"Dotations d'exploitation sur immobilisations (dotations aux provisions) (GB) 2016 (€)\", \n",
    "       \"Dotations d'exploitation sur actif circulant (dotations aux provisions) (GC) 2016 (€)\", \n",
    "       \"Dotations d'exploitation pour risques et charges (dotations aux provisions) (GD) 2016 (€)\", \n",
    "       'Autres charges (12) (GE) 2016 (€)', \n",
    "       \"Total des charges d'exploitation (4) (II) (GF) 2016 (€)\", \n",
    "       \"1 - RESULTAT D'EXPLOITATION (I - II) (GG) 2016 (€)\", \n",
    "       'Total des produits financiers (V) (GP) 2016 (€)', \n",
    "       'Intérêts et charges assimilées (GR) 2016 (€)', \n",
    "       'Total des charges financières (VI) (GU) 2016 (€)', \n",
    "       'Dotations financières aux amortissements et provisions (GQ) 2016 (€)', \n",
    "       'Reprises sur provisions & transferts de charges (GM) 2016 (€)', \n",
    "       'Total des produits exceptionnels (VII) (HD) 2016 (€)', \n",
    "       'Reprises sur provisions & transferts de charges (HC) 2016 (€)', \n",
    "       'Dotations exceptionnelles aux amortissements et provisions (6 ter) (HG) 2016 (€)', \n",
    "       'Total des charges exceptionnelles (VIII) (HH) 2016 (€)', \n",
    "       '4 - RESULTAT EXCEPTIONNEL (VII - VIII) (HI) 2016 (€)', \n",
    "       '5 - BENEFICE OU PERTE (Total des produits - total des charges) (HN) 2016 (€)', \n",
    "       \"Participation des salariés aux résultats de l'entreprise (HJ) 2016 (€)\", \n",
    "       'Impôts sur les bénéfices (HK) 2016 (€)',\n",
    "       'Production stockée (FM) 2016 (€)', \n",
    "       'Production immobilisée (FN) 2016 (€)',\n",
    "       '(3)\\xa0Dont Crédit-bail mobilier (HP) 2016 (€)', \n",
    "       '(3)\\xa0Dont Crédit-bail immobilier (HQ) 2016 (€)', \n",
    "       '3 - RESULTAT COURANT AVANT IMPOTS (I - II + III - IV + V - VI) (GW) 2016 (€)']"
   ]
  },
  {
   "cell_type": "code",
   "execution_count": null,
   "id": "03de8a9b",
   "metadata": {},
   "outputs": [],
   "source": [
    "annexes_cols = ['Clients douteux ou litigieux - Montant brut (VA) 2016 (€)', \n",
    "           'Sécurité sociale et autres organismes sociaux - Montant brut (8D) 2016 (€)', \n",
    "           'Impôts sur les bénéfices - Montant brut (8E) 2016 (€)', \n",
    "           'T.V.A. - Montant brut (VW) 2016 (€)', \n",
    "           'Emprunts remboursés en cours d’exercice (VK) 2016 (€)', \n",
    "           'Emprunts souscrits en cours d’exercice - à 1 an au plus (VJ2) 2016 (€)', \n",
    "           \"Emprunts souscrits en cours d’exercice - à plus d'un an et 5 ans au plus (VJ3) 2016 (€)\", \n",
    "           'Emprunts souscrits en cours d’exercice - à plus de 5 ans (VJ4) 2016 (€)', \n",
    "           'Effets portés à l’escompte et non échus (YS) 2016 (€)', \n",
    "           'Sous‐traitance (YT) 2016 (€)']"
   ]
  },
  {
   "cell_type": "code",
   "execution_count": null,
   "id": "61ea4993",
   "metadata": {},
   "outputs": [],
   "source": [
    "ratios_cols = ['Credit client',\n",
    " 'Credit Fournisseurs',\n",
    " 'Rotation_stocks',\n",
    " 'BFR',\n",
    " 'BFRE',\n",
    " 'Endettement total',\n",
    " 'CAF',\n",
    " 'Capacite de remboursement',\n",
    " 'Ressources durables',\n",
    " 'FRNG',\n",
    " 'Taux endettement',\n",
    " 'Rentabilite financiere',\n",
    " 'EBE',\n",
    " 'VA',\n",
    " 'Liquidite generale',\n",
    " 'Liquidite reduite',\n",
    " 'Taux ressources propres',\n",
    " 'Rentabilite des capitaux propres',\n",
    " 'Autonomie financiere',\n",
    " 'Poids interets',\n",
    " 'Taux EBE',\n",
    " 'Taux VA',\n",
    " 'Taux Rentabilite',\n",
    " 'Poids dettes fiscales',\n",
    " 'Taux augmentation endettement CT',\n",
    " 'Tresorerie']"
   ]
  },
  {
   "cell_type": "code",
   "execution_count": null,
   "id": "99f8aa3e",
   "metadata": {},
   "outputs": [],
   "source": [
    "cols_to_keep = (ratios_cols \n",
    "                + target_col \n",
    "                + general_cols_to_keep \n",
    "                + important_cols\n",
    "                + naf_cols_to_keep)\n",
    "print(len(cols_to_keep))"
   ]
  },
  {
   "cell_type": "code",
   "execution_count": null,
   "id": "f84dbdf8",
   "metadata": {},
   "outputs": [],
   "source": []
  },
  {
   "cell_type": "markdown",
   "id": "57d03ecc",
   "metadata": {},
   "source": [
    "# Analyse de la forme du dataset dans sa totalité\n",
    "#### Analyse de Forme :\n",
    "- **variable target** : default (1 si défaillante, 0 sinon)\n",
    "- **lignes et colonnes** : 9750, 130\n",
    "- **types de variables** : quantitatives : 120, qualitatives : 10\n",
    "- **Analyse des valeurs manquantes** :\n",
    "    - très peu de NaN (2.47% au total). C'est normal vu que l'essentiel des données constituent des champs obligatoires de la déclaration fiscale. Et que si ces champs ne sont pas renseignés les valeurs ne sont pas considérées comme manquantes mais comme nulles. Pour les champs numériques obligatoires (CA, achats, stocks...) c'est le cas. Mais **pour d'autres (une grande partie des champs de la liste \"general\"), il faudra se pencher sur le nombre de zéros**.\n",
    "    - NaN sur des infos complémentaires (\"vrais\" NaN) :\n",
    "        - Catégorie juridique (Niveau I) => 91% de NaN / Se complète avec Catégorie juridique (Niveau II) => 9% de NaN => Il faudra probablement regrouper ces 2 colonnes en une seule, ou bien en supprimer les données. Provient d'une erreur dans la constitution de l'échantillon\n",
    "        - Procédures collectives (type et date) : NaN pour 63% des entreprises, ce qui est normal car ne concerne que les entreprises en difficulté. Il faudra voir la meilleure façon de le prendre en compte\n",
    "    - NaN sur les ratios (causés dans la plupart des cas par des valeurs nulles au dénominateur, à évaluer au cas par cas)\n",
    "        - Poids des intérêts, taux de VA et taux d'EBE : On a 16% de NaN. Ces 3 ratios ayant en commun d'avoir le CA au dénominateur, il est probable que le CA soit nul pour 16% des entreprises. A creuser.\n",
    "        - Poids des dettes fiscales : 13.9% de NaN. Devrait correspondre à des entreprises dont le total du bilan est nul ?\n",
    "        \n",
    "- **Entreprises avec un CA = 0**"
   ]
  },
  {
   "cell_type": "code",
   "execution_count": null,
   "id": "ebc0cf27",
   "metadata": {},
   "outputs": [],
   "source": [
    "df.shape"
   ]
  },
  {
   "cell_type": "markdown",
   "id": "f784250f",
   "metadata": {},
   "source": [
    "### Analyse des types de variables\n"
   ]
  },
  {
   "cell_type": "code",
   "execution_count": null,
   "id": "1651b602",
   "metadata": {},
   "outputs": [],
   "source": [
    "# identifier le nombre de variables catégorielles et numériques\n",
    "df.dtypes.value_counts()"
   ]
  },
  {
   "cell_type": "code",
   "execution_count": null,
   "id": "20306199",
   "metadata": {},
   "outputs": [],
   "source": [
    "df.dtypes.value_counts().plot.pie()"
   ]
  },
  {
   "cell_type": "markdown",
   "id": "f7a9fd13",
   "metadata": {},
   "source": [
    "### Variables catégorielles\n",
    "- Seulement 10 variables sont catégorielles. Parmi elles :\n",
    "    - Variables à supprimer (nombre de modalités trop important ou pas assez, ne permettant pas d'apporter ) : [\"Dénomination\", \"Procédures collectives (type)\", \"Procédures collectives (date)\", \"Ville\", \"Notation NOTA-PME 2016\"]\n",
    "    - Tranches d'effectifs : 14. A conserver. Peut-être à imputer ? Faire le lien avec le nombre de salariés\n",
    "    - Code APE : 534 valeurs uniques c'est trop. Prendre une table de correspondance INSEE pour réduire le champ (NA 38 ?)\n",
    "    - Ville : pour l'instant à supprimer. Voir ultérieurement si ça peut être pertinent de travailler dessus (nombre d'habitants dans la ville ou bien rayon autour...)\n",
    "    - Date de création : passer en format date. Peut-être le remplacer par le nombre d'années d'ancienneté\n",
    "    - Catégorie juridique : soit supprimer les données, soit imputer les valeurs manquantes de la categ de niveau II\n",
    "    - A noter pour plus tard :\n",
    "        - Mettre en lien la ville avec le nombre d'habitants, la présence ou non d'une aire urbaine...\n",
    "        - Préciser la catégorie juridique de niveau II"
   ]
  },
  {
   "cell_type": "code",
   "execution_count": null,
   "id": "a050b177",
   "metadata": {},
   "outputs": [],
   "source": [
    "# identifier le nombre de modalités pour les variables catégorielles\n",
    "for col in df.select_dtypes('object').columns:\n",
    "    print(col, len(df[col].value_counts()))"
   ]
  },
  {
   "cell_type": "code",
   "execution_count": null,
   "id": "f3502307",
   "metadata": {},
   "outputs": [],
   "source": [
    "# identifier les modalités prises par les variables catégorielles affichant moins de 20 modalités\n",
    "categ = [\"Tranche effectifs\", \"Catégorie juridique (Niveau I)\", \"Catégorie juridique (Niveau II)\"]\n",
    "for col in categ:\n",
    "    print(f'{col :-<30} {df[col].unique()}')"
   ]
  },
  {
   "cell_type": "markdown",
   "id": "14c64c87",
   "metadata": {},
   "source": [
    "**Tranche d'effectifs**\n",
    "- variable ordinale, recherche des différentes modalités.\n",
    "- choix d'utiliser Tranche d'effectif plutôt qu'effectif moyen du personnel\n",
    "- pour l'imputation des valeurs manquantes (il y en a 1240 soit 12,7%) => plusieurs options. Soit le plus fréquent (ici tranche 2), soit info en tant que telle (mettre un -999 par ex), soit supprimer la colonne ou les lignes, soit imputer en utilisant les KNN."
   ]
  },
  {
   "cell_type": "code",
   "execution_count": null,
   "id": "21692c61",
   "metadata": {},
   "outputs": [],
   "source": [
    "# Choix entre effectif moyen du personnel et tranche d'effectifs => choix de tranche d'effectifs qui est davantage renseignée ()\n",
    "df[['Effectif moyen du personnel (YP) 2016', \"Tranche effectifs\"]].describe(include='all')"
   ]
  },
  {
   "cell_type": "code",
   "execution_count": null,
   "id": "c0362c97",
   "metadata": {},
   "outputs": [],
   "source": [
    "# variable ordinale, recherche des différentes modalités.\n",
    "# pour l'imputation des valeurs manquantes (il y en a 1240 soit 12,7%) => plusieurs options. Soit le plus fréquent (ici tranche 2), soit info en tant que telle (mettre un -999 par ex), soit supprimer la colonne ou les lignes, soit imputer en utilisant les KNN.\n",
    "df[\"Tranche effectifs\"].value_counts()"
   ]
  },
  {
   "cell_type": "code",
   "execution_count": null,
   "id": "5db4d79b",
   "metadata": {},
   "outputs": [],
   "source": [
    "dic_effectif = { \"0 salarié pendant l'année\" : 0\n",
    "                , \"0 salarié à la fin de l'année\" : 1\n",
    "                , \"De 1 à 2 salariés\" : 2\n",
    "                , \"De 3 à 5 salariés\" : 3\n",
    "                , \"De 6 à 9 salariés\" : 4\n",
    "                , \"De 10 à 19 salariés\" : 5\n",
    "                , \"De 20 à 49 salariés\" : 6\n",
    "                , \"De 50 à 99 salariés\" : 7\n",
    "                , \"De 100 à 199 salariés\" : 8\n",
    "                , \"De 200 à 249 salariés\" : 9\n",
    "                , \"De 250 à 499 salariés\" : 10\n",
    "                , \"De 500 à 999 salariés\" : 11\n",
    "                , \"De 1000 à 1999 salariés\" : 12\n",
    "                , \"De 2000 à 4999 salariés\" : 13 \n",
    "}"
   ]
  },
  {
   "cell_type": "markdown",
   "id": "ac1e2c05",
   "metadata": {},
   "source": [
    "### Valeurs manquantes"
   ]
  },
  {
   "cell_type": "code",
   "execution_count": null,
   "id": "5aca1372",
   "metadata": {
    "scrolled": true
   },
   "outputs": [],
   "source": [
    "# heatmap des valeurs manquantes (en blanc)\n",
    "plt.figure(figsize=(40,10))\n",
    "sns.heatmap(df.isna(), cbar=False)"
   ]
  },
  {
   "cell_type": "code",
   "execution_count": null,
   "id": "18204b8e",
   "metadata": {},
   "outputs": [],
   "source": [
    "# total de NaN sur le dataset\n",
    "df.isna().sum().sum()/(df.shape[0]*df.shape[1])*100"
   ]
  },
  {
   "cell_type": "code",
   "execution_count": null,
   "id": "bfe72eab",
   "metadata": {},
   "outputs": [],
   "source": [
    "# taux de NaN par colonne\n",
    "(df.isna().sum()/df.shape[0]).sort_values(ascending=False)"
   ]
  },
  {
   "cell_type": "markdown",
   "id": "c0a6b4c1",
   "metadata": {},
   "source": [
    "#### Focus sur les entreprises avec un CA null\n",
    "- 2302 entreprises avec CA null (1541 saines et 761 défaillantes)\n",
    "- Conséquence sur les ratios => \n",
    "- Est-ce pertinent de garder ces entreprises ? Comment reformuler cette question ? \n",
    "    - Est ce que la distribution (entre des entreprises ayant un CA nul et celle n'en ayant pas est significativement différente ?"
   ]
  },
  {
   "cell_type": "code",
   "execution_count": null,
   "id": "6286ab60",
   "metadata": {},
   "outputs": [],
   "source": [
    "CA_null = df[df[\"Chiffre d'affaires net (Total) (FL) 2016 (€)\"]==0]"
   ]
  },
  {
   "cell_type": "code",
   "execution_count": null,
   "id": "29695ad9",
   "metadata": {},
   "outputs": [],
   "source": [
    "CA_not_null = df[df[\"Chiffre d'affaires net (Total) (FL) 2016 (€)\"]!=0]"
   ]
  },
  {
   "cell_type": "code",
   "execution_count": null,
   "id": "f8425881",
   "metadata": {},
   "outputs": [],
   "source": [
    "sns.scatterplot(x=\"Chiffre d'affaires net (Total) (FL) 2016 (€)\", y= \"default\", data = df)"
   ]
  },
  {
   "cell_type": "code",
   "execution_count": null,
   "id": "6510b0c1",
   "metadata": {},
   "outputs": [],
   "source": [
    "CA_null[target_col].value_counts()"
   ]
  },
  {
   "cell_type": "markdown",
   "id": "802780e4",
   "metadata": {},
   "source": [
    "# Baseline 0 : uniquement ratios cols, suppression des NaN\n",
    "- Uniquement les ratio_cols\n",
    "- Step 2 --> Gestion des NaN \n",
    "    - Suppression des lignes avec des valeurs nulles ou infinies (de 9750 à 7273 lignes) On vérifie que la part des saines/default est stable et c'est le cas : le taux d'entreprises en défault passe de 34.256% à 34.745%, on peut dire qu'il reste stable.\n",
    "    - On a au final une df de 7273 lignes et 27 colonnes.\n",
    "\n",
    "- AVANT Imputation\n",
    "    - (9750, 27)\n",
    "    - 0.00000   0.65744\n",
    "    - 1.00000   0.34256\n",
    "\n",
    "\n",
    "- APRES Imputation\n",
    "    - (7273, 27)\n",
    "    - 0.00000   0.65255\n",
    "    - 1.00000   0.34745\n",
    "\n",
    "- Step 3 --> Gestion des variables catégorielles\n",
    "    - On n'a que des variables numériques (aucune variable catégorielle sur les ratios) => pas d'encodage à faire\n",
    "    \n",
    "- Step 4 --> Train test split\n",
    "\n",
    "- Step 5 --> Modèle de régression logistique (attention c'est à ce niveau qu'est opéré le préprocessing de normalisation !!!)\n",
    "    - Résultats :\n",
    "- CONFUSION MATRIX __---__\n",
    "          Predicted 0  Predicted 1  TOTAL\n",
    "            0          944           18    962\n",
    "            1          447           46    493\n",
    "                       1391           64   1455\n",
    "\n",
    "- CLASSIFICATION REPORT \n",
    "              precision    recall  f1-score   support\n",
    "\n",
    "         0.0       0.68      0.98      0.80       962\n",
    "         1.0       0.72      0.09      0.17       493\n",
    "\n",
    "    \n",
    "    \n",
    "    - Interprétation des résultats :\n",
    "    \n",
    "- Sur les 493 positifs, seulement 46 ont été identifiés comme tels soit un recall de 0,09 ce qui est un très mauvais score. C'est pourtant essentiellement cette métrique que l'on cherche à améliorer\n",
    "- Sur les 64 prédits positifs, 46 le sont réellement soit une précision de 0,72. On parvient ainsi à une accuracy de 0,66 et un F1 score de 0,17\n",
    "- On cherche à accroitre le recall, en diminuant le nombre / la proportion de faux négatifs\n",
    "=> Il semble que :\n",
    "    - Soit le modèle n'est pas du tout adapté (modèle logistique - quelles sont les hypothèses derrière ?)\n",
    "    - Soit le choix de features doit être revu (multicolinéarité ?)\n",
    "    - Soit le préprocessing sur les features doit être revu (regarder les distributions des features, voir s'il est pertinent de normaliser avec la méthode employée, voir s'il est intéressant \n",
    "    - Soit (à la marge) les hyperparamètres du modèle doivent être revus \n",
    "        - notamment le threshold - voir https://kobia.fr/classification-metrics-precision-recall/ \n",
    "        - et le notebook sur les métriques de classification et les itérations, car on a un problème sur ce dernier plan : Increase the number of iterations (max_iter) or scale the data as shown in:\n",
    "    https://scikit-learn.org/stable/modules/preprocessing.html\n",
    "Please also refer to the documentation for alternative solver options:\n",
    "    https://scikit-learn.org/stable/modules/linear_model.html#logistic-regression\n",
    "    - Soit tout ça en même temps\n",
    "\n",
    "\n",
    "**Suites à donner :**\n",
    "1) tester rapidement 2-3 autres modèles différents (SVM et random forest par exemple) pour voir si le type de modèle a un impact\n",
    "\n",
    "2) aller plus en profondeur sur les données"
   ]
  },
  {
   "cell_type": "markdown",
   "id": "80e15467",
   "metadata": {},
   "source": [
    "#### Suppression des NaN"
   ]
  },
  {
   "cell_type": "code",
   "execution_count": null,
   "id": "1fcc598c",
   "metadata": {},
   "outputs": [],
   "source": [
    "baseline = df.copy()\n",
    "# sélection des colonnes à garder :\n",
    "baseline = df[ratios_cols + target_col]"
   ]
  },
  {
   "cell_type": "code",
   "execution_count": null,
   "id": "fbc43b06",
   "metadata": {},
   "outputs": [],
   "source": [
    "#baseline_0 : enlève toutes les lignes avec des NaN ou des infinis en plus\n",
    "def imputation_v0(df):\n",
    "    # Baseline 0 - suppression des lignes avec des NaN\n",
    "    df = df.replace([np.inf, -np.inf], np.nan) # remplacement des infinis par des nan pour les supprimer aussi\n",
    "    df = df.dropna(axis=0)\n",
    "    return df"
   ]
  },
  {
   "cell_type": "code",
   "execution_count": null,
   "id": "181ccb79",
   "metadata": {},
   "outputs": [],
   "source": [
    "print(\"__---__ AVANT Imputation __---__\")\n",
    "print(baseline.shape)\n",
    "print(baseline['default'].value_counts()/baseline.shape[0])\n",
    "baseline = imputation_v0(baseline)\n",
    "print(\"\\n__---__ APRES Imputation __---__\")\n",
    "print(baseline.shape)\n",
    "print(baseline['default'].value_counts()/baseline.shape[0])"
   ]
  },
  {
   "cell_type": "code",
   "execution_count": null,
   "id": "1449ffce",
   "metadata": {},
   "outputs": [],
   "source": [
    "baseline.info()"
   ]
  },
  {
   "cell_type": "markdown",
   "id": "f97e2247",
   "metadata": {},
   "source": [
    "#### Train test split"
   ]
  },
  {
   "cell_type": "code",
   "execution_count": null,
   "id": "fc060f75",
   "metadata": {
    "colab": {},
    "colab_type": "code",
    "id": "FGoTxrGhvJy9"
   },
   "outputs": [],
   "source": [
    "from sklearn.model_selection import train_test_split"
   ]
  },
  {
   "cell_type": "code",
   "execution_count": null,
   "id": "dbc2ddae",
   "metadata": {
    "colab": {},
    "colab_type": "code",
    "id": "dNOA3tuNvJy_"
   },
   "outputs": [],
   "source": [
    "# on peut dans un premier temps séparer en 2 le dataset :\n",
    "trainset, testset = train_test_split(baseline, test_size=0.2, random_state=0)"
   ]
  },
  {
   "cell_type": "code",
   "execution_count": null,
   "id": "e24645ed",
   "metadata": {
    "colab": {
     "base_uri": "https://localhost:8080/",
     "height": 68
    },
    "colab_type": "code",
    "id": "CRoPWXQovJzB",
    "outputId": "843f4ca3-37fb-4447-aca5-a988ad2c4a7b"
   },
   "outputs": [],
   "source": [
    "# on vérifie que la distribution de la target reste OK dans les test et train set => c'est OK\n",
    "trainset['default'].value_counts(normalize=True)"
   ]
  },
  {
   "cell_type": "code",
   "execution_count": null,
   "id": "538b9fc3",
   "metadata": {
    "colab": {
     "base_uri": "https://localhost:8080/",
     "height": 68
    },
    "colab_type": "code",
    "id": "85m56b32vJzD",
    "outputId": "08751b73-6286-4175-f9c9-6e7f9351fe3f"
   },
   "outputs": [],
   "source": [
    "testset['default'].value_counts(normalize=True)"
   ]
  },
  {
   "cell_type": "markdown",
   "id": "f50a5933",
   "metadata": {},
   "source": [
    "#### Modèle + Normalisation\n",
    "- Modèle 1 : normalisation + feature selection a priori (ratios + important features) ++ \n",
    "- Modèle 2 : normalisation + elastic net, garder initialement tous les features"
   ]
  },
  {
   "cell_type": "code",
   "execution_count": null,
   "id": "aa327b22",
   "metadata": {},
   "outputs": [],
   "source": [
    "X_train = trainset.drop([\"default\"], axis=1)\n",
    "y_train = trainset[\"default\"]\n",
    "X_test = testset.drop([\"default\"], axis=1)\n",
    "y_test = testset[\"default\"]"
   ]
  },
  {
   "cell_type": "code",
   "execution_count": null,
   "id": "de08498f",
   "metadata": {},
   "outputs": [],
   "source": [
    "from sklearn.preprocessing import MinMaxScaler, StandardScaler, RobustScaler\n",
    "from sklearn.pipeline import make_pipeline\n",
    "from sklearn.linear_model import LogisticRegression\n",
    "\n",
    "\n",
    "model_1 = make_pipeline(StandardScaler(), LogisticRegression())"
   ]
  },
  {
   "cell_type": "code",
   "execution_count": null,
   "id": "91423d8c",
   "metadata": {},
   "outputs": [],
   "source": [
    "# model_1.fit(X_train, y_train)"
   ]
  },
  {
   "cell_type": "code",
   "execution_count": null,
   "id": "f4cd499e",
   "metadata": {},
   "outputs": [],
   "source": [
    "from sklearn.metrics import f1_score, confusion_matrix, classification_report\n",
    "# la learning curve est indispensable pour identifier l'over ou l'under fitting\n",
    "from sklearn.model_selection import learning_curve\n",
    "\n",
    "def evaluation(model):\n",
    "    \n",
    "    # on entraine le modèle\n",
    "    model.fit(X_train, y_train)\n",
    "    # on fait les predictions\n",
    "    y_pred = model.predict(X_test)\n",
    "    \n",
    "    # on fait la confusion_matrix\n",
    "    conf = pd.DataFrame(confusion_matrix(y_test, y_pred))\n",
    "    conf = conf.rename(columns={0: 'Predicted 0',1:'Predicted 1'})\n",
    "    conf = conf.rename(index={0: 'Actual 0',1:\"Actual 1\"})\n",
    "    conf[\"TOTAL\"] = conf[\"Predicted 0\"]+conf[\"Predicted 1\"]\n",
    "    conf = conf.append(pd.Series(conf.sum(axis=0), name=\"TOTAL\"))\n",
    "\n",
    "    \n",
    "    print(\"__---__ CONFUSION MATRIX __---__\")\n",
    "    print(conf)\n",
    "    print(\"\\n__---__ CLASSIFICATION REPORT __---__\")\n",
    "    print(classification_report(y_test, y_pred))\n",
    "    \n",
    "    N, train_score, val_score = learning_curve(model, X_train, y_train,\n",
    "                                              cv=4, scoring='f1',\n",
    "                                               train_sizes=np.linspace(0.1, 1, 10))\n",
    "    \n",
    "    # on visualise ca dans un graphique\n",
    "    plt.figure(figsize=(12, 8))\n",
    "    # évolu du train_score en fonction du nombre d'échantillons (N)\n",
    "    # on prend le score_mean car on est en cross-val\n",
    "    plt.plot(N, train_score.mean(axis=1), label='train score')\n",
    "    plt.plot(N, val_score.mean(axis=1), label='validation score')\n",
    "    plt.legend()\n",
    "    \n",
    "    "
   ]
  },
  {
   "cell_type": "code",
   "execution_count": null,
   "id": "f15567f2",
   "metadata": {},
   "outputs": [],
   "source": [
    "evaluation(model_1)"
   ]
  },
  {
   "cell_type": "markdown",
   "id": "f92af8f1",
   "metadata": {},
   "source": [
    "**CONCLUSIONS - Points à retravailler :**\n",
    "- Mieux gérer le workflow (voir avec ML Flow pour enregistrer les métadonnées des modèles en parallèle si possible)\n",
    "- Garder par exemple un tableau avec date/noms des features/prépro (et paramètres)/modèle (et hyperparamètres) / résultat / commentaires\n",
    "- Premier test avec régression logistique (ne pas oublier qu'on est en classification !!) => 0.66 ce qui n'est pas si bon que ça compte tenu de la répartition des 0 et des 1. Travailler sur la balance des classes pour voir s'il est possible d'améliorer les choses (SMOTE ?)\n",
    "- Tester avec moins de features / random forest ?"
   ]
  },
  {
   "attachments": {
    "image-2.png": {
     "image/png": "[encoded data removed]"
    },
    "image-4.png": {
     "image/png": "[encoded data removed]"
    },
    "image.png": {
     "image/png": "[encoded data removed]"
    }
   },
   "cell_type": "markdown",
   "id": "02f16084",
   "metadata": {},
   "source": [
    "# V_1 : test d'autres modèles avec les mêmes datas et le même prépro que la baseline 0\n",
    "\n",
    "- modele 2 : random forest (pas besoin de scaler les données)\n",
    "- modèle 3 : svm\n",
    "\n",
    "Je garde les X, y et train/test de la baseline 0\n",
    "Je définis simplement 2 autres modèles\n",
    "\n",
    "Conclusions - dans le cas d'un decision tree, on s'améliore sensiblement sur le recall au détriment de la précision :\n",
    "\n",
    "![image.png](attachment:image.png)\n",
    "\n",
    "Dans le cas d'un random forest : attention il semble y avoir de l'overfitting\n",
    "\n",
    "![image-4.png](attachment:image-4.png)\n",
    "\n",
    "Dans le cas d'un SVM, on a à peu près les mêmes scores que pour la régression logistique :\n",
    "\n",
    "![image-2.png](attachment:image-2.png)"
   ]
  },
  {
   "cell_type": "code",
   "execution_count": null,
   "id": "5332de92",
   "metadata": {},
   "outputs": [],
   "source": []
  },
  {
   "cell_type": "code",
   "execution_count": null,
   "id": "57a7be0f",
   "metadata": {},
   "outputs": [],
   "source": [
    "from sklearn.tree import DecisionTreeClassifier\n",
    "from sklearn.svm import LinearSVC\n",
    "from sklearn.ensemble import RandomForestClassifier\n",
    "\n",
    "model_2 = DecisionTreeClassifier()\n",
    "model_3 = RandomForestClassifier()\n",
    "model_4 = make_pipeline(StandardScaler(),LinearSVC(random_state=0, tol=1e-5))"
   ]
  },
  {
   "cell_type": "code",
   "execution_count": null,
   "id": "7ac7a11e",
   "metadata": {},
   "outputs": [],
   "source": [
    "evaluation(model_2)"
   ]
  },
  {
   "cell_type": "code",
   "execution_count": null,
   "id": "98ebdac6",
   "metadata": {},
   "outputs": [],
   "source": []
  },
  {
   "cell_type": "code",
   "execution_count": null,
   "id": "470eb926",
   "metadata": {},
   "outputs": [],
   "source": [
    "evaluation(model_4)"
   ]
  },
  {
   "cell_type": "code",
   "execution_count": null,
   "id": "7a3d0b27",
   "metadata": {},
   "outputs": [],
   "source": [
    "evaluation(model_4)"
   ]
  },
  {
   "cell_type": "code",
   "execution_count": null,
   "id": "483a42e7",
   "metadata": {},
   "outputs": [],
   "source": [
    "evaluation(model_3) # random forest classifier"
   ]
  },
  {
   "cell_type": "markdown",
   "id": "dd9b1d01",
   "metadata": {},
   "source": [
    "# Autre tentative : garder tous les features et laisser la machine se débrouiller"
   ]
  },
  {
   "cell_type": "code",
   "execution_count": null,
   "id": "fc00c72e",
   "metadata": {},
   "outputs": [],
   "source": [
    "# mettre en paramètre de la fonction d'évaluation les datas pour le faire varier aussi"
   ]
  },
  {
   "cell_type": "code",
   "execution_count": null,
   "id": "82fee822",
   "metadata": {},
   "outputs": [],
   "source": [
    "df2 = df.copy()"
   ]
  },
  {
   "cell_type": "code",
   "execution_count": null,
   "id": "f1b16d5c",
   "metadata": {},
   "outputs": [],
   "source": [
    "df2 = df2.select_dtypes(exclude=['object', 'datetime'])"
   ]
  },
  {
   "cell_type": "code",
   "execution_count": null,
   "id": "03c160a0",
   "metadata": {},
   "outputs": [],
   "source": [
    "df2 = imputation_v0(df2)\n",
    "X = df2.drop([\"default\"], axis=1)\n",
    "y = df2[\"default\"]\n",
    "X_train, X_test, y_train, y_test = train_test_split(X, y, test_size=0.2, random_state=0)"
   ]
  },
  {
   "cell_type": "code",
   "execution_count": null,
   "id": "f1ac4d0d",
   "metadata": {},
   "outputs": [],
   "source": [
    "from sklearn.preprocessing import MinMaxScaler, StandardScaler, RobustScaler\n",
    "from sklearn.pipeline import make_pipeline\n",
    "from sklearn.linear_model import LogisticRegression\n",
    "from sklearn.tree import DecisionTreeClassifier\n",
    "from sklearn.svm import LinearSVC\n",
    "from sklearn.ensemble import RandomForestClassifier\n",
    "from sklearn.neighbors import KNeighborsClassifier\n",
    "\n",
    "model_1 = make_pipeline(StandardScaler(),LogisticRegression())\n",
    "model_2 = DecisionTreeClassifier()\n",
    "model_3 = RandomForestClassifier()\n",
    "model_4 = make_pipeline(StandardScaler(),LinearSVC(random_state=0, tol=1e-5))\n",
    "model_5 = make_pipeline(StandardScaler(), KNeighborsClassifier(n_neighbors=3))"
   ]
  },
  {
   "cell_type": "code",
   "execution_count": null,
   "id": "71b92f45",
   "metadata": {},
   "outputs": [],
   "source": []
  },
  {
   "cell_type": "code",
   "execution_count": null,
   "id": "cdac6a4b",
   "metadata": {},
   "outputs": [],
   "source": [
    "evaluation(model_1)"
   ]
  },
  {
   "cell_type": "code",
   "execution_count": null,
   "id": "0095b4e6",
   "metadata": {},
   "outputs": [],
   "source": []
  },
  {
   "cell_type": "code",
   "execution_count": null,
   "id": "fd8657ef",
   "metadata": {},
   "outputs": [],
   "source": []
  },
  {
   "cell_type": "code",
   "execution_count": null,
   "id": "e5a4555a",
   "metadata": {},
   "outputs": [],
   "source": [
    "evaluation(model_2)"
   ]
  },
  {
   "cell_type": "code",
   "execution_count": null,
   "id": "5630b152",
   "metadata": {},
   "outputs": [],
   "source": [
    "evaluation(model_3)"
   ]
  },
  {
   "cell_type": "code",
   "execution_count": null,
   "id": "606ec508",
   "metadata": {
    "scrolled": false
   },
   "outputs": [],
   "source": [
    "evaluation(model_4)"
   ]
  },
  {
   "cell_type": "code",
   "execution_count": null,
   "id": "3590d8b3",
   "metadata": {},
   "outputs": [],
   "source": [
    "evaluation(model_5)"
   ]
  },
  {
   "cell_type": "markdown",
   "id": "67407956",
   "metadata": {},
   "source": [
    "# Checklist n°2 - Personnalisée sur les 36 features sélectionnées\n",
    "## Analyse d'ensemble\n",
    "- NaN \n",
    "    - Suppression des lignes avec le CA null\n",
    "    - \n",
    "- Variables qualitatives\n",
    "    - Nombre de modalités\n",
    "    - Etude de la relation de chaque variable à la target (violin/boxplot ? test statistique ?)\n",
    "- Variables quantitatives\n",
    "    - Analyse des distribitions => quelles transformations apporter ?\n",
    "    - Identification des outliers\n",
    "    - Identification des relations entre chacune des variables et la target (différence de distribution entre les 0 et les 1 : visualisation via histplot + test statistique ?)\n",
    "    - Identification des relations entre les variables entre elles (multicolinéarité)"
   ]
  },
  {
   "cell_type": "code",
   "execution_count": null,
   "id": "88ac34bc",
   "metadata": {},
   "outputs": [],
   "source": [
    "eda = df.copy()\n",
    "eda = eda[cols_to_keep]\n",
    "eda.shape"
   ]
  },
  {
   "cell_type": "code",
   "execution_count": null,
   "id": "48e07c01",
   "metadata": {},
   "outputs": [],
   "source": [
    "eda.dtypes.value_counts()"
   ]
  },
  {
   "cell_type": "code",
   "execution_count": null,
   "id": "15781e83",
   "metadata": {},
   "outputs": [],
   "source": [
    "eda['A 10'].describe()"
   ]
  },
  {
   "cell_type": "code",
   "execution_count": null,
   "id": "caeaf7f6",
   "metadata": {},
   "outputs": [],
   "source": [
    "eda.describe()"
   ]
  },
  {
   "cell_type": "code",
   "execution_count": null,
   "id": "2400cffb",
   "metadata": {},
   "outputs": [],
   "source": []
  },
  {
   "cell_type": "markdown",
   "id": "acfff56e",
   "metadata": {},
   "source": [
    "### NaN\n",
    "\n",
    "- Au total 5,5% de valeurs manquantes à l'échelle du dataset. \n",
    "- Un premier tour de visualisation des NaN permet d'identifier des strates où ils se concentrent. Il s'agit essentiellement de ratios, et c'est lié à la présence de CA nulls dans l'échantillon. \n",
    "\n",
    "\n",
    "**Focus sur les entreprises avec un CA null**\n",
    "- 2302 entreprises avec CA null (1541 saines et 761 défaillantes)\n",
    "- Est-ce pertinent de garder ces entreprises ? Comment reformuler cette question ? \n",
    "    - Est ce que la distribution (entre des entreprises ayant un CA nul et celle n'en ayant pas est significativement différente ?\n",
    "    \n",
    "- En supprimant les entreprises affichant un CA null, \n",
    "    - on voit bien que le taux de NaN diminue fortement : on passe de 5,5% à 0,36%.\n",
    "    - la colonne \"tranche d'effectifs\" est à 10% de valeurs nulles.\n",
    "    - le reste est de 1% et moins => on pourra imputer, la façon de le faire sera déterminée au cas par cas après étude des données\n",
    "    - validation de la suppression des lignes avec CA null => on voit que ça ne change pas la part des entreprises saines et défaillantes. Economiquement ca fait aussi du sens de supprimer ces entreprises\n"
   ]
  },
  {
   "cell_type": "code",
   "execution_count": null,
   "id": "5e011ff3",
   "metadata": {},
   "outputs": [],
   "source": [
    "eda.columns"
   ]
  },
  {
   "cell_type": "code",
   "execution_count": null,
   "id": "5f160beb",
   "metadata": {
    "scrolled": true
   },
   "outputs": [],
   "source": [
    "# heatmap des valeurs manquantes (en blanc)\n",
    "plt.figure(figsize=(40,10))\n",
    "sns.heatmap(eda.isna(), cbar=False)"
   ]
  },
  {
   "cell_type": "code",
   "execution_count": null,
   "id": "1235d744",
   "metadata": {},
   "outputs": [],
   "source": [
    "eda2 = eda[eda[\"Chiffre d'affaires net (Total) (FL) 2016 (€)\"] != 0]"
   ]
  },
  {
   "cell_type": "code",
   "execution_count": null,
   "id": "f9a2e9a2",
   "metadata": {},
   "outputs": [],
   "source": [
    "eda2.shape"
   ]
  },
  {
   "cell_type": "code",
   "execution_count": null,
   "id": "57421488",
   "metadata": {},
   "outputs": [],
   "source": [
    "# heatmap des valeurs manquantes (en blanc) une fois les lignes avec CA null supprimées\n",
    "plt.figure(figsize=(40,10))\n",
    "sns.heatmap(eda2.isna(), cbar=False)"
   ]
  },
  {
   "cell_type": "code",
   "execution_count": null,
   "id": "783ad153",
   "metadata": {},
   "outputs": [],
   "source": [
    "# total de NaN sur le dataset\n",
    "eda.isna().sum().sum()/(eda.shape[0]*eda.shape[1])*100"
   ]
  },
  {
   "cell_type": "code",
   "execution_count": null,
   "id": "9bfd89fe",
   "metadata": {
    "scrolled": true
   },
   "outputs": [],
   "source": [
    "# taux de NaN par colonne\n",
    "(eda.isna().sum()/eda.shape[0]).sort_values(ascending=False)"
   ]
  },
  {
   "cell_type": "code",
   "execution_count": null,
   "id": "6065ee5d",
   "metadata": {},
   "outputs": [],
   "source": [
    "# total de NaN sur le dataset\n",
    "eda2.isna().sum().sum()/(eda2.shape[0]*eda.shape[1])*100"
   ]
  },
  {
   "cell_type": "code",
   "execution_count": null,
   "id": "66b9d740",
   "metadata": {},
   "outputs": [],
   "source": [
    "# taux de NaN par colonne\n",
    "(eda2.isna().sum()/eda2.shape[0]).sort_values(ascending=False)"
   ]
  },
  {
   "cell_type": "markdown",
   "id": "5ecbc3b6",
   "metadata": {},
   "source": [
    "### Heatmap corrélations"
   ]
  },
  {
   "cell_type": "code",
   "execution_count": null,
   "id": "5755fd48",
   "metadata": {
    "scrolled": false
   },
   "outputs": [],
   "source": [
    "from string import ascii_letters\n",
    "import numpy as np\n",
    "import pandas as pd\n",
    "import seaborn as sns\n",
    "import matplotlib.pyplot as plt\n",
    "\n",
    "sns.set_theme(style=\"white\")\n",
    "\n",
    "\n",
    "# Compute the correlation matrix\n",
    "corr = eda2.corr()\n",
    "\n",
    "# Generate a mask for the upper triangle\n",
    "mask = np.triu(np.ones_like(corr, dtype=bool))\n",
    "\n",
    "# Set up the matplotlib figure\n",
    "f, ax = plt.subplots(figsize=(11, 9))\n",
    "\n",
    "# Generate a custom diverging colormap\n",
    "cmap = sns.diverging_palette(230, 20, as_cmap=True)\n",
    "\n",
    "# Draw the heatmap with the mask and correct aspect ratio\n",
    "sns.heatmap(corr, mask=mask, cmap=cmap, vmax=.3, center=0,\n",
    "            square=True, linewidths=.5, cbar_kws={\"shrink\": .5})"
   ]
  },
  {
   "cell_type": "markdown",
   "id": "ad83f23b",
   "metadata": {},
   "source": [
    "#### Focus sur les 2 variables les plus corrélées avec la target\n",
    "- Taux ressources propres\n",
    "- Autonomie financière"
   ]
  },
  {
   "cell_type": "code",
   "execution_count": null,
   "id": "5964de4c",
   "metadata": {},
   "outputs": [],
   "source": [
    "corr['default'].sort_values()"
   ]
  },
  {
   "cell_type": "code",
   "execution_count": null,
   "id": "ad27d2ee",
   "metadata": {},
   "outputs": [],
   "source": [
    "eda4 = eda2[eda2['Taux ressources propres'] > -50]\n",
    "eda4 = eda4[eda4['Taux ressources propres'] < 50]\n",
    "\n"
   ]
  },
  {
   "cell_type": "code",
   "execution_count": null,
   "id": "319d5154",
   "metadata": {},
   "outputs": [],
   "source": [
    "#df['age'].fillna(df['age'].median(skipna = True), inplace = True)\n",
    "\n",
    "sns.lmplot(data=eda4, x='Taux ressources propres', y ='default', logistic=True).fig.suptitle('Probabilité de faillite en fonction du taux de ressources propres')\n",
    "plt.show()\n",
    "sns.lmplot(data=eda4, x='Autonomie financiere', y ='default', logistic=True).fig.suptitle('Probabilité de faillite en fonction de l\\'autonomie financière')\n",
    "plt.show()"
   ]
  },
  {
   "cell_type": "code",
   "execution_count": null,
   "id": "0218f245",
   "metadata": {},
   "outputs": [],
   "source": [
    "sns.lmplot(data=eda2, x='Credit Fournisseurs', y ='default', logistic=True).fig.suptitle('Probabilité de faillite')\n",
    "plt.show()"
   ]
  },
  {
   "cell_type": "code",
   "execution_count": null,
   "id": "7c145387",
   "metadata": {},
   "outputs": [],
   "source": [
    "sns.lmplot(data=eda2, x='Credit client', y ='default', logistic=True).fig.suptitle('Probabilité de faillite')\n",
    "plt.show()"
   ]
  },
  {
   "cell_type": "code",
   "execution_count": null,
   "id": "69040b26",
   "metadata": {},
   "outputs": [],
   "source": [
    "eda_temp = eda2.copy()\n",
    "eda_temp = eda_temp.rename(columns={'Taux ressources propres':'RP', 'Autonomie financiere':'AutoFi'})"
   ]
  },
  {
   "cell_type": "code",
   "execution_count": null,
   "id": "00c1a41c",
   "metadata": {},
   "outputs": [],
   "source": [
    "eda_temp.columns"
   ]
  },
  {
   "cell_type": "code",
   "execution_count": null,
   "id": "f2aa60ed",
   "metadata": {},
   "outputs": [],
   "source": [
    "# building the model and fitting the data\n",
    "import statsmodels.api as sm\n",
    "import statsmodels.formula.api as smf\n",
    "f = 'default ~ RP + AutoFi'\n",
    "logitfit = smf.logit(formula = str(f), data = eda_temp).fit()\n",
    "\n",
    "# Inspecte les résultats \n",
    "logitfit.summary()"
   ]
  },
  {
   "cell_type": "code",
   "execution_count": null,
   "id": "ffab3dec",
   "metadata": {},
   "outputs": [],
   "source": [
    "# building the model and fitting the data\n",
    "f_2 = 'default ~ AutoFi'\n",
    "logitfit = smf.logit(formula = str(f_2), data = eda_temp).fit()\n",
    "\n",
    "# Inspecte les résultats \n",
    "logitfit.summary()"
   ]
  },
  {
   "cell_type": "code",
   "execution_count": null,
   "id": "1d839414",
   "metadata": {},
   "outputs": [],
   "source": [
    "# building the model and fitting the data\n",
    "f_3 = 'default ~ RP'\n",
    "logitfit = smf.logit(formula = str(f_3), data = eda_temp).fit()\n",
    "\n",
    "# Inspecte les résultats \n",
    "logitfit.summary()"
   ]
  },
  {
   "cell_type": "code",
   "execution_count": null,
   "id": "9cdebebb",
   "metadata": {
    "scrolled": false
   },
   "outputs": [],
   "source": [
    "# Compute the correlation matrix\n",
    "corr2 = df.corr()\n",
    "\n",
    "# Generate a mask for the upper triangle\n",
    "mask = np.triu(np.ones_like(corr2, dtype=bool))\n",
    "\n",
    "# Set up the matplotlib figure\n",
    "f, ax = plt.subplots(figsize=(11, 9))\n",
    "\n",
    "# Generate a custom diverging colormap\n",
    "cmap = sns.diverging_palette(230, 20, as_cmap=True)\n",
    "\n",
    "# Draw the heatmap with the mask and correct aspect ratio\n",
    "sns.heatmap(corr2, mask=mask, cmap=cmap, vmax=.3, center=0,\n",
    "            square=True, linewidths=.5, cbar_kws={\"shrink\": .5})"
   ]
  },
  {
   "cell_type": "markdown",
   "id": "a5588786",
   "metadata": {},
   "source": [
    "### Analyse des distributions selon la target"
   ]
  },
  {
   "cell_type": "markdown",
   "id": "3606bb28",
   "metadata": {},
   "source": [
    "#### Première approche : scatterplot des features contre elle-même, hue sur la target"
   ]
  },
  {
   "cell_type": "code",
   "execution_count": null,
   "id": "82f51f25",
   "metadata": {},
   "outputs": [],
   "source": [
    "for col in eda2.select_dtypes('number'):\n",
    "    fig, ((axe1,axe2,axe3)) = plt.subplots(nrows=1,ncols=3, figsize = (20,5))\n",
    "    fig.suptitle(f'{col}', fontsize=12,fontweight=\"bold\")"
   ]
  },
  {
   "cell_type": "code",
   "execution_count": null,
   "id": "96930bc8",
   "metadata": {},
   "outputs": [],
   "source": [
    "# qq plot\n",
    "from scipy import stats\n",
    "import seaborn as sns\n",
    "for col in eda2.select_dtypes('number'):\n",
    "    plt.figure()\n",
    "    stats.probplot(df[col], plot=sns.mpl.pyplot)"
   ]
  },
  {
   "cell_type": "code",
   "execution_count": null,
   "id": "c4668a66",
   "metadata": {},
   "outputs": [],
   "source": [
    "# Histogramme des variables continues\n",
    "\n",
    "for col in eda2.select_dtypes('number'):\n",
    "    plt.figure()\n",
    "    sns.scatterplot(x=eda2[col], y=eda2[col], hue=eda2['default'])\n",
    "    plt.show()\n",
    "    plt.ion()\n"
   ]
  },
  {
   "cell_type": "markdown",
   "id": "d2873a24",
   "metadata": {},
   "source": [
    "#### Deuxième approche : histogrammes différenciés"
   ]
  },
  {
   "cell_type": "code",
   "execution_count": null,
   "id": "f4a28d50",
   "metadata": {},
   "outputs": [],
   "source": [
    "eda2_default = eda2[eda2[\"default\"] == 1]\n",
    "eda2_saines = eda2[eda2[\"default\"] == 0]\n",
    "print(eda2.shape, eda2_default.shape, eda2_saines.shape)"
   ]
  },
  {
   "cell_type": "code",
   "execution_count": null,
   "id": "5c5bf484",
   "metadata": {
    "scrolled": false
   },
   "outputs": [],
   "source": [
    "for col in eda2.select_dtypes(np.number):\n",
    "    plt.figure()\n",
    "    sns.distplot(eda2_default[col], label='défaillantes')\n",
    "    sns.distplot(eda2_saines[col], label='saines')\n",
    "    plt.show()\n",
    "    plt.ion()"
   ]
  },
  {
   "cell_type": "code",
   "execution_count": null,
   "id": "7fa5c077",
   "metadata": {
    "scrolled": false
   },
   "outputs": [],
   "source": [
    "# Histogramme des variables continues\n",
    "from scipy import stats\n",
    "\n",
    "for col in eda2.select_dtypes('number'):\n",
    "    plt.figure()\n",
    "    sns.boxplot(eda2[col])\n",
    "    plt.show()\n",
    "    "
   ]
  },
  {
   "cell_type": "markdown",
   "id": "0fcec7c1",
   "metadata": {},
   "source": [
    "## Supprimer les outliers ?\n",
    "### De façon non discriminée"
   ]
  },
  {
   "cell_type": "code",
   "execution_count": null,
   "id": "37af4b53",
   "metadata": {},
   "outputs": [],
   "source": [
    "''' Detection '''\n",
    "# IQR\n",
    "Q1 = np.percentile(df_boston['DIS'], 25,\n",
    "                   interpolation = 'midpoint')\n",
    " \n",
    "Q3 = np.percentile(df_boston['DIS'], 75,\n",
    "                   interpolation = 'midpoint')\n",
    "IQR = Q3 - Q1\n",
    " \n",
    "print(\"Old Shape: \", df_boston.shape)\n",
    " \n",
    "# Upper bound\n",
    "upper = np.where(df_boston['DIS'] >= (Q3+1.5*IQR))\n",
    "# Lower bound\n",
    "lower = np.where(df_boston['DIS'] <= (Q1-1.5*IQR))\n",
    " \n",
    "''' Removing the Outliers '''\n",
    "df_boston.drop(upper[0], inplace = True)\n",
    "df_boston.drop(lower[0], inplace = True)\n",
    " \n",
    "print(\"New Shape: \", df_boston.shape)"
   ]
  },
  {
   "cell_type": "code",
   "execution_count": null,
   "id": "d77257bb",
   "metadata": {},
   "outputs": [],
   "source": [
    "# IQR\n",
    "def remove_outliers(df):\n",
    "    for col in df.select_dtypes(np.number):\n",
    "        print(\"Start shape : \", df.shape)\n",
    "        Q1 = np.percentile(df[col], 25,\n",
    "                           interpolation = 'midpoint')\n",
    "        Q3 = np.percentile(df[col], 75,\n",
    "                           interpolation = 'midpoint')\n",
    "        IQR = Q3 - Q1\n",
    "        # Upper bound\n",
    "        upper = np.where(df[col] >= (Q3+1.5*IQR))\n",
    "        # Lower bound\n",
    "        lower = np.where(df[col] <= (Q1-1.5*IQR))\n",
    "        # Removing outliers\n",
    "        df = df.drop(index=upper[0])\n",
    "        #df = df.drop(index=lower[0])\n",
    "        print(\"End shape : \", df.shape)\n",
    "    return df"
   ]
  },
  {
   "cell_type": "code",
   "execution_count": null,
   "id": "799d684c",
   "metadata": {},
   "outputs": [],
   "source": [
    "# (modified from http://www.itl.nist.gov/div898/handbook/prc/section1/prc16.htm)\n",
    "def get_iqr_values(df_in, col_name):\n",
    "    median = df_in[col_name].median()\n",
    "    q1 = df_in[col_name].quantile(0.25) # 25th percentile / 1st quartile\n",
    "    q3 = df_in[col_name].quantile(0.75) # 7th percentile / 3rd quartile\n",
    "    iqr = q3-q1 #Interquartile range\n",
    "    minimum  = q1-1.5*iqr # The minimum value or the |- marker in the box plot\n",
    "    maximum = q3+1.5*iqr # The maximum value or the -| marker in the box plot\n",
    "    return median, q1, q3, iqr, minimum, maximum\n",
    "\n",
    "def get_iqr_text(df_in, col_name):\n",
    "    median, q1, q3, iqr, minimum, maximum = get_iqr_values(df_in, col_name)\n",
    "    text = f\"median={median:.2f}, q1={q1:.2f}, q3={q3:.2f}, iqr={iqr:.2f}, minimum={minimum:.2f}, maximum={maximum:.2f}\"\n",
    "    return text\n",
    "\n",
    "def remove_outliers(df_in, col_name):\n",
    "    _, _, _, _, minimum, maximum = get_iqr_values(df_in, col_name)\n",
    "    df_out = df_in.loc[(df_in[col_name] > minimum) & (df_in[col_name] < maximum)]\n",
    "    return df_out\n",
    "\n",
    "def count_outliers(df_in, col_name):\n",
    "    _, _, _, _, minimum, maximum = get_iqr_values(df_in, col_name)\n",
    "    print(\"Montant minimum --> \", minimum)\n",
    "    print(\"Nb minimum --> \", df_in.loc[(df_in[col_name] <= minimum)].shape[0])\n",
    "    print(\"Montant maximum --> \",maximum)\n",
    "    print(\"Nb maximum --> \", df_in.loc[(df_in[col_name] >= maximum)].shape[0])\n",
    "    df_outliers = df_in.loc[(df_in[col_name] <= minimum) | (df_in[col_name] >= maximum)]\n",
    "    return df_outliers.shape[0]\n",
    "\n",
    "def box_and_whisker(df_in, col_name):\n",
    "    title = get_iqr_text(df_in, col_name)\n",
    "    sns.boxplot(df_in[col_name])\n",
    "    plt.title(title)\n",
    "    plt.show()"
   ]
  },
  {
   "cell_type": "code",
   "execution_count": null,
   "id": "cfaa2573",
   "metadata": {
    "scrolled": false
   },
   "outputs": [],
   "source": [
    "for col in eda2.select_dtypes(np.number):\n",
    "    print(f\"{col} has {count_outliers(eda2, col)} outliers\")"
   ]
  },
  {
   "cell_type": "code",
   "execution_count": null,
   "id": "6b3d0bef",
   "metadata": {},
   "outputs": [],
   "source": [
    "for col in eda2.select_dtypes(np.number):\n",
    "    eda2 = remove_outliers(eda2, col)\n",
    "    print(eda2.shape[0])\n",
    "    "
   ]
  },
  {
   "cell_type": "markdown",
   "id": "ce1ae850",
   "metadata": {},
   "source": [
    "## Je tente de tout passer en log \n",
    "Raisons : les distributions ne sont pas normales\n",
    "Elles sont surtout fortement asymétriques vers les valeurs hautes. Donc je tente de réduire cette asymétrie avec de logs, car sinon j'ai des \"outliers\" au sens de l'Intervalle inter quartile qui, si je les supprime, me vident 100% de mes données\n",
    "- Trouver une transformation permettant d'écraser les queues de distribution pour diminuer le nombre d'outliers, et \n",
    "- Vérifier ca avec le test rapide des modèles pour voir si ca change quelque chose sur les scores\n",
    "\n",
    "**Premier essai : un passage de tout le dataset en log.**\n",
    "- Une fois la transformation en log de faite, j'ai toujours des différences sur les qq plots mais les distplots semblent plus lisibles et ressemblent quand même plus à des lois normales.\n",
    "- Quand je refais les calculs d'outliers, j'aboutis à peu de valeurs sur la tranche du haut.\n",
    "- Problème : trop de valeurs nulles et négatives, non prises en charge par le log. Ainsi on a 100% du dataset \"out\" si on enlève les nan.On a plus de la moitié des colonnes qui dépassent les 16% de NaN.\n",
    "\n",
    "**Deuxième essai : un passage de tout le dataset en racine carrée**\n",
    "- Essai de passer en racine carrée. C'est mieux mais, ne prenant pas en charge les valeurs négatives, on a là encore beaucoup de colonnes affichant trop de NaN.\n",
    "\n",
    "**Quelle solution ? Faut-il vraiment s'inquiéter des \"outliers\"**\n",
    "Peut-etre autant de valeurs \"extrêmes\" car on n'est pas du tout dans le cadre d'une loi normale et qu'il ne faut pas chercher à y rentrer ?\n",
    "Peut-être que mes données sont très mauvaises ?\n",
    "\n"
   ]
  },
  {
   "cell_type": "markdown",
   "id": "71696829",
   "metadata": {},
   "source": [
    "### Premier essai : un passage de tout le dataset en log."
   ]
  },
  {
   "cell_type": "code",
   "execution_count": null,
   "id": "c39c958e",
   "metadata": {},
   "outputs": [],
   "source": [
    "eda2_num = eda2.select_dtypes(np.number)"
   ]
  },
  {
   "cell_type": "code",
   "execution_count": null,
   "id": "edf20a18",
   "metadata": {},
   "outputs": [],
   "source": [
    "eda_log = np.log(eda2_num)"
   ]
  },
  {
   "cell_type": "code",
   "execution_count": null,
   "id": "f45af622",
   "metadata": {},
   "outputs": [],
   "source": [
    "eda_log.shape"
   ]
  },
  {
   "cell_type": "code",
   "execution_count": null,
   "id": "f0a1ba11",
   "metadata": {},
   "outputs": [],
   "source": [
    "for col in eda_log.columns:\n",
    "    print(f\"{col} has {count_outliers(eda_log, col)} outliers\")"
   ]
  },
  {
   "cell_type": "code",
   "execution_count": null,
   "id": "415779b2",
   "metadata": {
    "scrolled": true
   },
   "outputs": [],
   "source": [
    "# Histogramme des variables continues\n",
    "from scipy import stats\n",
    "\n",
    "for col in eda_log.select_dtypes('number'):\n",
    "    fig, ((axe1,axe2)) = plt.subplots(nrows=1,ncols=2, figsize = (15,5))\n",
    "    fig.suptitle(f'{col}', fontsize=12,fontweight=\"bold\")\n",
    "    \n",
    "    #sns.histplot(data=eda2, x=col, ax=axe1)\n",
    "    sns.distplot(eda_log[col], ax=axe1)\n",
    "    #axe1.set_title('Distribution',fontstyle='italic',fontsize= font_size_title)\n",
    "    #axe1.set_xlabel('Montant du tips en $', fontsize= font_size_axis)\n",
    "    #axe1.set_ylabel('Nombre de tips', fontsize= font_size_axis)\n",
    "    \n",
    "    stats.probplot(eda_log[col], plot=sns.mpl.pyplot)"
   ]
  },
  {
   "cell_type": "code",
   "execution_count": null,
   "id": "33371a71",
   "metadata": {},
   "outputs": [],
   "source": []
  },
  {
   "cell_type": "markdown",
   "id": "c2004972",
   "metadata": {},
   "source": [
    "- Problème de la transformation en logs => ne marche pas sur les 0 ou les valeurs négatives\n",
    "- Si on veut conserver la transformation en logs : ajouter une constante à toutes les données (mais si j'ai des ratios ?). \n",
    "    - Soit la constante 1, \n",
    "    - soit la constante corresondant à x/2, x étant la plus petite valeur non nulle observée dans le dataset)\n",
    "    - I prefer to apply log(X - (min(X) - 1)) to eliminate log0 and negativity problems\n",
    "    - Sur les ratios : if your data were ratio data, the only transformations you could make would be multiplicative transformations, because adding a constant destroys the rational zero. However, because your data are interval, any linear transformation is fine--according to Keith Widaman in a lecture he gave at UC Davis. If your data were ratio (i.e., did have an absolute zero), you could use the square root transformation rather than a log+1 transformation.\n",
    "- Sinon on a d'autres options :\n",
    "    - lae passage en racine carrée (mais marche surtout pour des distributions avec slight right skew\n",
    "    - la box-cox transformation (https://docs.scipy.org/doc/scipy/reference/generated/scipy.stats.boxcox.html)\n",
    "\n",
    "Use Box-Cox transformation for data having zero values.This works fine with zeros (although not with negative values). However, often the square root is not a strong enough transformation to deal with the high levels of skewness (we generally do sqrt transformation for right skewed distribution) seen in real data. If you are using are than can use function boxcox.fit() in package named geoR."
   ]
  },
  {
   "cell_type": "code",
   "execution_count": null,
   "id": "4ad579f2",
   "metadata": {},
   "outputs": [],
   "source": [
    "# total de NaN sur le dataset\n",
    "eda_log.isna().sum().sum()/(eda_log.shape[0]*eda_log.shape[1])*100"
   ]
  },
  {
   "cell_type": "code",
   "execution_count": null,
   "id": "12873e34",
   "metadata": {},
   "outputs": [],
   "source": [
    "# taux de NaN par colonne\n",
    "(eda_log.isna().sum()/eda_log.shape[0]).sort_values(ascending=False)"
   ]
  },
  {
   "cell_type": "markdown",
   "id": "a47c6d3b",
   "metadata": {},
   "source": [
    "### Deuxième essai : un passage de tout le dataset en racine carrée"
   ]
  },
  {
   "cell_type": "code",
   "execution_count": null,
   "id": "3ec9b7b9",
   "metadata": {},
   "outputs": [],
   "source": [
    "eda_root = np.sqrt(eda2_num)"
   ]
  },
  {
   "cell_type": "code",
   "execution_count": null,
   "id": "53b1f086",
   "metadata": {
    "scrolled": true
   },
   "outputs": [],
   "source": [
    "# taux de NaN par colonne\n",
    "(eda_root.isna().sum()/eda_root.shape[0]).sort_values(ascending=False)"
   ]
  },
  {
   "cell_type": "code",
   "execution_count": null,
   "id": "6399c337",
   "metadata": {},
   "outputs": [],
   "source": [
    "# fonction de récap infos sur df\n",
    "def df_info(df):\n",
    "        len_df = len(df)\n",
    "        all_columns = len(df.columns)\n",
    "        all_nan = df.isna().sum().sum()\n",
    "        list_of_numerics = df.select_dtypes(include = ['float','int']).columns\n",
    "        print(f\"\"\"\n",
    "        Longueur du dataset : {len_df} enregistrements\n",
    "        Nombre de colonnes : {all_columns}\n",
    "        \"\"\")\n",
    "        echantillonColonnes = []\n",
    "        for i in df.columns:\n",
    "            listcolumn = str(list(df[i].head(5)))\n",
    "            echantillonColonnes.append(listcolumn)\n",
    "        obs = pd.DataFrame({'type': list(df.dtypes),\n",
    "        'Echantillon': echantillonColonnes,\n",
    "        \"% de valeurs nulles\":\n",
    "        round(df.isna().sum() / len_df * 100, 2),\n",
    "                            \"% de valeurs négatives\":\n",
    "        'Nbr L dupliquées' : (df.duplicated()).sum(),\n",
    "        'Nbr V unique' : df.nunique(),\n",
    "        'Nbr Outliers' : df.apply(lambda x: sum(\n",
    "                                 (x<(x.quantile(0.25) - 1.5 * (x.quantile(0.75)-x.quantile(0.25)))) |\n",
    "                                 (x>(x.quantile(0.75) + 1.5 * (x.quantile(0.75)-x.quantile(0.25))))\n",
    "                                 if x.name in list_of_numerics else ''))\n",
    "        })\n",
    "        return obs"
   ]
  },
  {
   "cell_type": "code",
   "execution_count": null,
   "id": "80a97f33",
   "metadata": {},
   "outputs": [],
   "source": [
    "eda2_num.columns"
   ]
  },
  {
   "cell_type": "code",
   "execution_count": null,
   "id": "711ef18d",
   "metadata": {
    "scrolled": true
   },
   "outputs": [],
   "source": [
    "eda2_num.describe()"
   ]
  },
  {
   "cell_type": "markdown",
   "id": "9f6dea51",
   "metadata": {},
   "source": [
    "### Focus sur les données nulles et négatives"
   ]
  },
  {
   "cell_type": "code",
   "execution_count": null,
   "id": "64287432",
   "metadata": {},
   "outputs": [],
   "source": [
    "#compter les valeurs négatives et les afficher dans un heatmap\n",
    "# afficher le % de valeurs négatives et les afficher dans le résumé\n",
    "# afficher, pour chaque colonne, seulement la distribution des valeurs négatives ou nulles\n",
    "\n",
    "\n"
   ]
  },
  {
   "cell_type": "code",
   "execution_count": null,
   "id": "6d78a214",
   "metadata": {},
   "outputs": [],
   "source": [
    "for col in eda2_num.columns:\n",
    "    plt.figure()\n",
    "    sns.displot(x=eda2_num[col][eda2_num[col] < 0])\n",
    "    plt.show()"
   ]
  },
  {
   "cell_type": "code",
   "execution_count": null,
   "id": "7356a4db",
   "metadata": {},
   "outputs": [],
   "source": [
    "montants = ['Credit client', 'Credit Fournisseurs', 'Rotation_stocks', 'BFR', 'BFRE', \n",
    "            'Endettement total', 'CAF', 'Ressources durables', 'FRNG', 'EBE', 'VA',\n",
    "           'Tresorerie', 'default', 'Age entreprise', \"Nombre de mois de l'exercice comptable 2016\",\n",
    "            'TOTAL (I) (DL) 2016 (€)', \"Chiffre d'affaires net (Total) (FL) 2016 (€)\", \n",
    "            '3 - RESULTAT COURANT AVANT IMPOTS (I - II + III - IV + V - VI) (GW) 2016 (€)', \n",
    "            'TOTAL GENERAL(I à VI) (net) (CONET) 2016 (€)']\n",
    "ratios = ['Taux endettement', 'Rentabilite financiere','Taux ressources propres', \n",
    "          'Rentabilite des capitaux propres', 'Autonomie financiere', 'Poids interets', \n",
    "          'Taux EBE', 'Taux VA', 'Taux Rentabilite', 'Poids dettes fiscales', \n",
    "          'Taux augmentation endettement CT']\n",
    "ne_pas_transformer = ['default', 'Age entreprise', \"Nombre de mois de l'exercice comptable 2016\"]"
   ]
  },
  {
   "cell_type": "code",
   "execution_count": null,
   "id": "3c2e2257",
   "metadata": {},
   "outputs": [],
   "source": [
    "df_info(eda2_num)"
   ]
  },
  {
   "cell_type": "code",
   "execution_count": null,
   "id": "28d5e723",
   "metadata": {},
   "outputs": [],
   "source": [
    "# Histogramme des variables continues\n",
    "for col in eda2.select_dtypes('number'):\n",
    "    plt.figure()\n",
    "    sns.histplot(eda2[col], stat=\"density\")\n",
    "    #sns.distplot(df[col])\n",
    "    #sns.\n",
    "    # rajouter qq plot\n",
    "    # rajouter lien avec la target ?"
   ]
  },
  {
   "cell_type": "code",
   "execution_count": null,
   "id": "125abc92",
   "metadata": {},
   "outputs": [],
   "source": [
    "fig, ((axe1,axe2),(axe3,axe4)) = plt.subplots(nrows=2,ncols=2, figsize = (15,18))\n",
    "\n",
    "font_size_title = 16\n",
    "font_size_axis = 12\n",
    "\n",
    "fig.suptitle('Analyse du jeu de donnée tips de Seaborn', fontsize=18,fontweight=\"extra bold\")\n",
    "\n",
    "sns.histplot(data=data, x='tip', ax=axe1)\n",
    "axe1.set_title('Distribution du montant des tips',fontstyle='italic',fontsize= font_size_title)\n",
    "axe1.set_xlabel('Montant du tips en $', fontsize= font_size_axis)\n",
    "axe1.set_ylabel('Nombre de tips', fontsize= font_size_axis)\n",
    "\n",
    "\n",
    "axe2.scatter(x='total_bill', y='tip', data=data,c='red')\n",
    "axe2.set_title(\"Correlation entre \\n le montant du tips et le montant de l'addition\",fontstyle='italic',fontsize= font_size_title)\n",
    "axe2.set_xlabel(\"Montant de l'addition en $\", fontsize= font_size_axis)\n",
    "axe2.set_ylabel(\"Montant du tips en $\", fontsize= font_size_axis)\n",
    "\n",
    "\n",
    "axe3.scatter(x='day',y='tip',data=data, color='green')\n",
    "axe3.set_title('Repartition du montant du pourboire \\npar rapport au jour',fontstyle='italic',fontsize= font_size_title)\n",
    "axe3.set_xlabel(\"Jours\", fontsize= font_size_axis)\n",
    "axe3.set_ylabel(\"Montant du tips en $\", fontsize= font_size_axis)\n",
    "axe3.set_yticks([2,4,6,8,10])\n",
    "axe3.set_yticklabels(['2 $','4 $','6 $','8 $','10 $'])\n",
    "\n",
    "\n",
    "\n",
    "sns.regplot(x='size', y='tip', data=data, ax=axe4, color='black', ci=95)\n",
    "axe4.set_title('Montant du tips en fonction \\ndu nombre de personne à la table',fontstyle='italic',fontsize= font_size_title)\n",
    "axe4.set_xlabel(\"Nombre de personne à une table\", fontsize= font_size_axis)\n",
    "axe4.set_ylabel(\"Montant du tips en $\", fontsize= font_size_axis)\n",
    "\n",
    "for axe in [axe1,axe2,axe3,axe4]:\n",
    "    remove_spines(axe)\n",
    "\n",
    "plt.show()"
   ]
  },
  {
   "cell_type": "markdown",
   "id": "52f1b546",
   "metadata": {},
   "source": [
    "# PLOTLY"
   ]
  },
  {
   "cell_type": "code",
   "execution_count": null,
   "id": "a1b3ea01",
   "metadata": {},
   "outputs": [],
   "source": [
    "import plotly.express as px\n",
    "fig = px.bar(x=[\"a\", \"b\", \"c\"], y=[1, 3, 2])\n",
    "fig.show()"
   ]
  },
  {
   "cell_type": "code",
   "execution_count": null,
   "id": "23614654",
   "metadata": {},
   "outputs": [],
   "source": [
    "import plotly.express as px\n",
    "df = px.data.tips()\n",
    "fig = px.histogram(df, x=\"total_bill\", y=\"tip\", color=\"sex\", marginal=\"rug\", hover_data=df.columns)\n",
    "fig.show()"
   ]
  },
  {
   "cell_type": "code",
   "execution_count": null,
   "id": "a9082928",
   "metadata": {},
   "outputs": [],
   "source": [
    "eda2.columns"
   ]
  },
  {
   "cell_type": "code",
   "execution_count": null,
   "id": "a1273dd3",
   "metadata": {
    "scrolled": false
   },
   "outputs": [],
   "source": [
    "for col in eda2.select_dtypes('number'):\n",
    "    fig = px.histogram(eda2, x=eda2[col], color=\"default\", nbins=6000, histnorm='probability density', marginal=\"box\")\n",
    "    fig.update_traces(opacity=0.6)\n",
    "    fig.show()"
   ]
  },
  {
   "cell_type": "code",
   "execution_count": null,
   "id": "da58fc23",
   "metadata": {},
   "outputs": [],
   "source": []
  }
 ],
 "metadata": {
  "kernelspec": {
   "display_name": "Python 3",
   "language": "python",
   "name": "python3"
  },
  "language_info": {
   "codemirror_mode": {
    "name": "ipython",
    "version": 3
   },
   "file_extension": ".py",
   "mimetype": "text/x-python",
   "name": "python",
   "nbconvert_exporter": "python",
   "pygments_lexer": "ipython3",
   "version": "3.9.5"
  },
  "toc": {
   "base_numbering": 1,
   "nav_menu": {},
   "number_sections": true,
   "sideBar": true,
   "skip_h1_title": false,
   "title_cell": "Table of Contents",
   "title_sidebar": "Contents",
   "toc_cell": false,
   "toc_position": {
    "height": "calc(100% - 180px)",
    "left": "10px",
    "top": "150px",
    "width": "165px"
   },
   "toc_section_display": true,
   "toc_window_display": false
  }
 },
 "nbformat": 4,
 "nbformat_minor": 5
}
